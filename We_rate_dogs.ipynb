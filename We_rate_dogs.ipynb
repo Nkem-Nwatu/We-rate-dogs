{
 "cells": [
  {
   "cell_type": "code",
   "execution_count": 1,
   "metadata": {},
   "outputs": [],
   "source": [
    "#importing important packages that will be needed for my analysis\n",
    "\n",
    "import pandas as pd\n",
    "import numpy as np\n",
    "import tweepy\n",
    "from tweepy import OAuthHandler\n",
    "import json\n",
    "from timeit import default_timer as timer\n"
   ]
  },
  {
   "cell_type": "code",
   "execution_count": 2,
   "metadata": {},
   "outputs": [],
   "source": [
    "# Reading my tweet archived file into a pandas dataframe\n",
    "\n",
    "tweet_archive = pd.read_csv('twitter-archive-enhanced.csv')"
   ]
  },
  {
   "cell_type": "code",
   "execution_count": 3,
   "metadata": {},
   "outputs": [
    {
     "data": {
      "text/html": [
       "<div>\n",
       "<style scoped>\n",
       "    .dataframe tbody tr th:only-of-type {\n",
       "        vertical-align: middle;\n",
       "    }\n",
       "\n",
       "    .dataframe tbody tr th {\n",
       "        vertical-align: top;\n",
       "    }\n",
       "\n",
       "    .dataframe thead th {\n",
       "        text-align: right;\n",
       "    }\n",
       "</style>\n",
       "<table border=\"1\" class=\"dataframe\">\n",
       "  <thead>\n",
       "    <tr style=\"text-align: right;\">\n",
       "      <th></th>\n",
       "      <th>tweet_id</th>\n",
       "      <th>in_reply_to_status_id</th>\n",
       "      <th>in_reply_to_user_id</th>\n",
       "      <th>timestamp</th>\n",
       "      <th>source</th>\n",
       "      <th>text</th>\n",
       "      <th>retweeted_status_id</th>\n",
       "      <th>retweeted_status_user_id</th>\n",
       "      <th>retweeted_status_timestamp</th>\n",
       "      <th>expanded_urls</th>\n",
       "      <th>rating_numerator</th>\n",
       "      <th>rating_denominator</th>\n",
       "      <th>name</th>\n",
       "      <th>doggo</th>\n",
       "      <th>floofer</th>\n",
       "      <th>pupper</th>\n",
       "      <th>puppo</th>\n",
       "    </tr>\n",
       "  </thead>\n",
       "  <tbody>\n",
       "    <tr>\n",
       "      <th>0</th>\n",
       "      <td>892420643555336193</td>\n",
       "      <td>NaN</td>\n",
       "      <td>NaN</td>\n",
       "      <td>2017-08-01 16:23:56 +0000</td>\n",
       "      <td>&lt;a href=\"http://twitter.com/download/iphone\" r...</td>\n",
       "      <td>This is Phineas. He's a mystical boy. Only eve...</td>\n",
       "      <td>NaN</td>\n",
       "      <td>NaN</td>\n",
       "      <td>NaN</td>\n",
       "      <td>https://twitter.com/dog_rates/status/892420643...</td>\n",
       "      <td>13</td>\n",
       "      <td>10</td>\n",
       "      <td>Phineas</td>\n",
       "      <td>None</td>\n",
       "      <td>None</td>\n",
       "      <td>None</td>\n",
       "      <td>None</td>\n",
       "    </tr>\n",
       "    <tr>\n",
       "      <th>1</th>\n",
       "      <td>892177421306343426</td>\n",
       "      <td>NaN</td>\n",
       "      <td>NaN</td>\n",
       "      <td>2017-08-01 00:17:27 +0000</td>\n",
       "      <td>&lt;a href=\"http://twitter.com/download/iphone\" r...</td>\n",
       "      <td>This is Tilly. She's just checking pup on you....</td>\n",
       "      <td>NaN</td>\n",
       "      <td>NaN</td>\n",
       "      <td>NaN</td>\n",
       "      <td>https://twitter.com/dog_rates/status/892177421...</td>\n",
       "      <td>13</td>\n",
       "      <td>10</td>\n",
       "      <td>Tilly</td>\n",
       "      <td>None</td>\n",
       "      <td>None</td>\n",
       "      <td>None</td>\n",
       "      <td>None</td>\n",
       "    </tr>\n",
       "    <tr>\n",
       "      <th>2</th>\n",
       "      <td>891815181378084864</td>\n",
       "      <td>NaN</td>\n",
       "      <td>NaN</td>\n",
       "      <td>2017-07-31 00:18:03 +0000</td>\n",
       "      <td>&lt;a href=\"http://twitter.com/download/iphone\" r...</td>\n",
       "      <td>This is Archie. He is a rare Norwegian Pouncin...</td>\n",
       "      <td>NaN</td>\n",
       "      <td>NaN</td>\n",
       "      <td>NaN</td>\n",
       "      <td>https://twitter.com/dog_rates/status/891815181...</td>\n",
       "      <td>12</td>\n",
       "      <td>10</td>\n",
       "      <td>Archie</td>\n",
       "      <td>None</td>\n",
       "      <td>None</td>\n",
       "      <td>None</td>\n",
       "      <td>None</td>\n",
       "    </tr>\n",
       "  </tbody>\n",
       "</table>\n",
       "</div>"
      ],
      "text/plain": [
       "             tweet_id  in_reply_to_status_id  in_reply_to_user_id  \\\n",
       "0  892420643555336193                    NaN                  NaN   \n",
       "1  892177421306343426                    NaN                  NaN   \n",
       "2  891815181378084864                    NaN                  NaN   \n",
       "\n",
       "                   timestamp  \\\n",
       "0  2017-08-01 16:23:56 +0000   \n",
       "1  2017-08-01 00:17:27 +0000   \n",
       "2  2017-07-31 00:18:03 +0000   \n",
       "\n",
       "                                              source  \\\n",
       "0  <a href=\"http://twitter.com/download/iphone\" r...   \n",
       "1  <a href=\"http://twitter.com/download/iphone\" r...   \n",
       "2  <a href=\"http://twitter.com/download/iphone\" r...   \n",
       "\n",
       "                                                text  retweeted_status_id  \\\n",
       "0  This is Phineas. He's a mystical boy. Only eve...                  NaN   \n",
       "1  This is Tilly. She's just checking pup on you....                  NaN   \n",
       "2  This is Archie. He is a rare Norwegian Pouncin...                  NaN   \n",
       "\n",
       "   retweeted_status_user_id retweeted_status_timestamp  \\\n",
       "0                       NaN                        NaN   \n",
       "1                       NaN                        NaN   \n",
       "2                       NaN                        NaN   \n",
       "\n",
       "                                       expanded_urls  rating_numerator  \\\n",
       "0  https://twitter.com/dog_rates/status/892420643...                13   \n",
       "1  https://twitter.com/dog_rates/status/892177421...                13   \n",
       "2  https://twitter.com/dog_rates/status/891815181...                12   \n",
       "\n",
       "   rating_denominator     name doggo floofer pupper puppo  \n",
       "0                  10  Phineas  None    None   None  None  \n",
       "1                  10    Tilly  None    None   None  None  \n",
       "2                  10   Archie  None    None   None  None  "
      ]
     },
     "execution_count": 3,
     "metadata": {},
     "output_type": "execute_result"
    }
   ],
   "source": [
    "#view the first three records in the dataframe\n",
    "tweet_archive.head(3)"
   ]
  },
  {
   "cell_type": "markdown",
   "metadata": {},
   "source": [
    "## The tweet image predictions\n",
    "\n",
    "This file (image_predictions.tsv) is present in each tweet according to a neural network. \n",
    "It has been hosted on Udacity's servers and so I downloaded it programaticlly using the `Requests` library and the following [URL](https://d17h27t6h515a5.cloudfront.net/topher/2017/August/599fd2ad_image-predictions/image-predictions.tsv)\n"
   ]
  },
  {
   "cell_type": "code",
   "execution_count": 4,
   "metadata": {},
   "outputs": [],
   "source": [
    "#import request and use it to write the file \n",
    "\n",
    "import requests\n",
    "url = 'https://d17h27t6h515a5.cloudfront.net/topher/2017/August/599fd2ad_image-predictions/image-predictions.tsv'\n",
    "response = requests.get(url)\n",
    "\n",
    "# Save HTML to file\n",
    "\n",
    "with open(\"image-predictions.tsv\", mode='wb') as file:\n",
    "    file.write(response.content)\n"
   ]
  },
  {
   "cell_type": "code",
   "execution_count": 5,
   "metadata": {},
   "outputs": [
    {
     "data": {
      "text/html": [
       "<div>\n",
       "<style scoped>\n",
       "    .dataframe tbody tr th:only-of-type {\n",
       "        vertical-align: middle;\n",
       "    }\n",
       "\n",
       "    .dataframe tbody tr th {\n",
       "        vertical-align: top;\n",
       "    }\n",
       "\n",
       "    .dataframe thead th {\n",
       "        text-align: right;\n",
       "    }\n",
       "</style>\n",
       "<table border=\"1\" class=\"dataframe\">\n",
       "  <thead>\n",
       "    <tr style=\"text-align: right;\">\n",
       "      <th></th>\n",
       "      <th>tweet_id</th>\n",
       "      <th>jpg_url</th>\n",
       "      <th>img_num</th>\n",
       "      <th>p1</th>\n",
       "      <th>p1_conf</th>\n",
       "      <th>p1_dog</th>\n",
       "      <th>p2</th>\n",
       "      <th>p2_conf</th>\n",
       "      <th>p2_dog</th>\n",
       "      <th>p3</th>\n",
       "      <th>p3_conf</th>\n",
       "      <th>p3_dog</th>\n",
       "    </tr>\n",
       "  </thead>\n",
       "  <tbody>\n",
       "    <tr>\n",
       "      <th>0</th>\n",
       "      <td>666020888022790149</td>\n",
       "      <td>https://pbs.twimg.com/media/CT4udn0WwAA0aMy.jpg</td>\n",
       "      <td>1</td>\n",
       "      <td>Welsh_springer_spaniel</td>\n",
       "      <td>0.465074</td>\n",
       "      <td>True</td>\n",
       "      <td>collie</td>\n",
       "      <td>0.156665</td>\n",
       "      <td>True</td>\n",
       "      <td>Shetland_sheepdog</td>\n",
       "      <td>0.061428</td>\n",
       "      <td>True</td>\n",
       "    </tr>\n",
       "    <tr>\n",
       "      <th>1</th>\n",
       "      <td>666029285002620928</td>\n",
       "      <td>https://pbs.twimg.com/media/CT42GRgUYAA5iDo.jpg</td>\n",
       "      <td>1</td>\n",
       "      <td>redbone</td>\n",
       "      <td>0.506826</td>\n",
       "      <td>True</td>\n",
       "      <td>miniature_pinscher</td>\n",
       "      <td>0.074192</td>\n",
       "      <td>True</td>\n",
       "      <td>Rhodesian_ridgeback</td>\n",
       "      <td>0.072010</td>\n",
       "      <td>True</td>\n",
       "    </tr>\n",
       "    <tr>\n",
       "      <th>2</th>\n",
       "      <td>666033412701032449</td>\n",
       "      <td>https://pbs.twimg.com/media/CT4521TWwAEvMyu.jpg</td>\n",
       "      <td>1</td>\n",
       "      <td>German_shepherd</td>\n",
       "      <td>0.596461</td>\n",
       "      <td>True</td>\n",
       "      <td>malinois</td>\n",
       "      <td>0.138584</td>\n",
       "      <td>True</td>\n",
       "      <td>bloodhound</td>\n",
       "      <td>0.116197</td>\n",
       "      <td>True</td>\n",
       "    </tr>\n",
       "  </tbody>\n",
       "</table>\n",
       "</div>"
      ],
      "text/plain": [
       "             tweet_id                                          jpg_url  \\\n",
       "0  666020888022790149  https://pbs.twimg.com/media/CT4udn0WwAA0aMy.jpg   \n",
       "1  666029285002620928  https://pbs.twimg.com/media/CT42GRgUYAA5iDo.jpg   \n",
       "2  666033412701032449  https://pbs.twimg.com/media/CT4521TWwAEvMyu.jpg   \n",
       "\n",
       "   img_num                      p1   p1_conf  p1_dog                  p2  \\\n",
       "0        1  Welsh_springer_spaniel  0.465074    True              collie   \n",
       "1        1                 redbone  0.506826    True  miniature_pinscher   \n",
       "2        1         German_shepherd  0.596461    True            malinois   \n",
       "\n",
       "    p2_conf  p2_dog                   p3   p3_conf  p3_dog  \n",
       "0  0.156665    True    Shetland_sheepdog  0.061428    True  \n",
       "1  0.074192    True  Rhodesian_ridgeback  0.072010    True  \n",
       "2  0.138584    True           bloodhound  0.116197    True  "
      ]
     },
     "execution_count": 5,
     "metadata": {},
     "output_type": "execute_result"
    }
   ],
   "source": [
    "#read the tsv file into a dataframe and show the first three records\n",
    "\n",
    "image_file = pd.read_csv('image-predictions.tsv', delimiter = '\\t')\n",
    "image_file.head(3)"
   ]
  },
  {
   "cell_type": "code",
   "execution_count": 6,
   "metadata": {},
   "outputs": [],
   "source": [
    "# Query Twitter API for each tweet in the Twitter archive and save JSON in a text file\n",
    "# These are hidden to comply with Twitter's API terms and conditions\n",
    "\n",
    "#We use tweepy; a package made for querying twitter APIs\n",
    "\n",
    "\n",
    "consumer_key = 'HIDDEN'\n",
    "consumer_secret = 'HIDDEN'\n",
    "access_token = 'HIDDEN'\n",
    "access_secret = 'HIDDEN'\n",
    "\n",
    "auth = OAuthHandler(consumer_key, consumer_secret)\n",
    "auth.set_access_token(access_token, access_secret)\n",
    "\n",
    "api = tweepy.API(auth, wait_on_rate_limit=True)"
   ]
  },
  {
   "cell_type": "code",
   "execution_count": 7,
   "metadata": {},
   "outputs": [
    {
     "data": {
      "text/plain": [
       "2356"
      ]
     },
     "execution_count": 7,
     "metadata": {},
     "output_type": "execute_result"
    }
   ],
   "source": [
    "# tweet_archive is a DataFrame with the twitter_archive_enhanced.csv file.\n",
    "# NOTE TO REVIEWER: this student had mobile verification issues so the following\n",
    "# Tweet IDs for which to gather additional data via Twitter's API\n",
    "tweet_ids = tweet_archive.tweet_id.values\n",
    "len(tweet_ids)\n"
   ]
  },
  {
   "cell_type": "code",
   "execution_count": 8,
   "metadata": {},
   "outputs": [],
   "source": [
    "#using the request library, I am writing into a Json file, data from the twitter API\n",
    "json_url = 'https://video.udacity-data.com/topher/2018/November/5be5fb7d_tweet-json/tweet-json.txt'\n",
    "\n",
    "response = requests.get(json_url)\n",
    "\n",
    "# Save HTML to file\n",
    "with open(\"tweet-json.txt\", mode='wb') as json_file:\n",
    "    json_file.write(response.content)"
   ]
  },
  {
   "cell_type": "code",
   "execution_count": 9,
   "metadata": {},
   "outputs": [],
   "source": [
    "# Reading my gathered data into a datframe while also picking \n",
    "# my desired fields needed for this analysis.\n",
    "\n",
    "\n",
    "df_list = []\n",
    "with open(\"tweet-json.txt\", mode='r') as json_file:\n",
    "    for line in json_file:\n",
    "        data = json.loads(line)\n",
    "        df_list.append({\n",
    "        \"tweet_id\": data['id'], \n",
    "        \"favorite_count\": data[\"favorite_count\"], \n",
    "        \"retweet_count\": data[\"retweet_count\"]\n",
    "        })\n",
    "json_df = pd.DataFrame(df_list, columns = ['tweet_id',\n",
    "'retweet_count', \n",
    "'favorite_count' ])"
   ]
  },
  {
   "cell_type": "code",
   "execution_count": 10,
   "metadata": {},
   "outputs": [
    {
     "data": {
      "text/html": [
       "<div>\n",
       "<style scoped>\n",
       "    .dataframe tbody tr th:only-of-type {\n",
       "        vertical-align: middle;\n",
       "    }\n",
       "\n",
       "    .dataframe tbody tr th {\n",
       "        vertical-align: top;\n",
       "    }\n",
       "\n",
       "    .dataframe thead th {\n",
       "        text-align: right;\n",
       "    }\n",
       "</style>\n",
       "<table border=\"1\" class=\"dataframe\">\n",
       "  <thead>\n",
       "    <tr style=\"text-align: right;\">\n",
       "      <th></th>\n",
       "      <th>tweet_id</th>\n",
       "      <th>retweet_count</th>\n",
       "      <th>favorite_count</th>\n",
       "    </tr>\n",
       "  </thead>\n",
       "  <tbody>\n",
       "    <tr>\n",
       "      <th>0</th>\n",
       "      <td>892420643555336193</td>\n",
       "      <td>8853</td>\n",
       "      <td>39467</td>\n",
       "    </tr>\n",
       "    <tr>\n",
       "      <th>1</th>\n",
       "      <td>892177421306343426</td>\n",
       "      <td>6514</td>\n",
       "      <td>33819</td>\n",
       "    </tr>\n",
       "    <tr>\n",
       "      <th>2</th>\n",
       "      <td>891815181378084864</td>\n",
       "      <td>4328</td>\n",
       "      <td>25461</td>\n",
       "    </tr>\n",
       "    <tr>\n",
       "      <th>3</th>\n",
       "      <td>891689557279858688</td>\n",
       "      <td>8964</td>\n",
       "      <td>42908</td>\n",
       "    </tr>\n",
       "    <tr>\n",
       "      <th>4</th>\n",
       "      <td>891327558926688256</td>\n",
       "      <td>9774</td>\n",
       "      <td>41048</td>\n",
       "    </tr>\n",
       "    <tr>\n",
       "      <th>...</th>\n",
       "      <td>...</td>\n",
       "      <td>...</td>\n",
       "      <td>...</td>\n",
       "    </tr>\n",
       "    <tr>\n",
       "      <th>2349</th>\n",
       "      <td>666049248165822465</td>\n",
       "      <td>41</td>\n",
       "      <td>111</td>\n",
       "    </tr>\n",
       "    <tr>\n",
       "      <th>2350</th>\n",
       "      <td>666044226329800704</td>\n",
       "      <td>147</td>\n",
       "      <td>311</td>\n",
       "    </tr>\n",
       "    <tr>\n",
       "      <th>2351</th>\n",
       "      <td>666033412701032449</td>\n",
       "      <td>47</td>\n",
       "      <td>128</td>\n",
       "    </tr>\n",
       "    <tr>\n",
       "      <th>2352</th>\n",
       "      <td>666029285002620928</td>\n",
       "      <td>48</td>\n",
       "      <td>132</td>\n",
       "    </tr>\n",
       "    <tr>\n",
       "      <th>2353</th>\n",
       "      <td>666020888022790149</td>\n",
       "      <td>532</td>\n",
       "      <td>2535</td>\n",
       "    </tr>\n",
       "  </tbody>\n",
       "</table>\n",
       "<p>2354 rows × 3 columns</p>\n",
       "</div>"
      ],
      "text/plain": [
       "                tweet_id  retweet_count  favorite_count\n",
       "0     892420643555336193           8853           39467\n",
       "1     892177421306343426           6514           33819\n",
       "2     891815181378084864           4328           25461\n",
       "3     891689557279858688           8964           42908\n",
       "4     891327558926688256           9774           41048\n",
       "...                  ...            ...             ...\n",
       "2349  666049248165822465             41             111\n",
       "2350  666044226329800704            147             311\n",
       "2351  666033412701032449             47             128\n",
       "2352  666029285002620928             48             132\n",
       "2353  666020888022790149            532            2535\n",
       "\n",
       "[2354 rows x 3 columns]"
      ]
     },
     "execution_count": 10,
     "metadata": {},
     "output_type": "execute_result"
    }
   ],
   "source": [
    "#Here you go!!!\n",
    "\n",
    "json_df"
   ]
  },
  {
   "cell_type": "markdown",
   "metadata": {},
   "source": [
    "# ASSSESSING MY DATASETS"
   ]
  },
  {
   "cell_type": "markdown",
   "metadata": {},
   "source": [
    "### visual assessment\n",
    "\n",
    "I will assess my dataset starting from the archived tweets stored in `tweet_archive` dataframe then the image file stored in the `image_file` dataframe and lastly the Json file in the `json_df` dataframe."
   ]
  },
  {
   "cell_type": "code",
   "execution_count": 11,
   "metadata": {},
   "outputs": [
    {
     "data": {
      "text/html": [
       "<div>\n",
       "<style scoped>\n",
       "    .dataframe tbody tr th:only-of-type {\n",
       "        vertical-align: middle;\n",
       "    }\n",
       "\n",
       "    .dataframe tbody tr th {\n",
       "        vertical-align: top;\n",
       "    }\n",
       "\n",
       "    .dataframe thead th {\n",
       "        text-align: right;\n",
       "    }\n",
       "</style>\n",
       "<table border=\"1\" class=\"dataframe\">\n",
       "  <thead>\n",
       "    <tr style=\"text-align: right;\">\n",
       "      <th></th>\n",
       "      <th>tweet_id</th>\n",
       "      <th>in_reply_to_status_id</th>\n",
       "      <th>in_reply_to_user_id</th>\n",
       "      <th>timestamp</th>\n",
       "      <th>source</th>\n",
       "      <th>text</th>\n",
       "      <th>retweeted_status_id</th>\n",
       "      <th>retweeted_status_user_id</th>\n",
       "      <th>retweeted_status_timestamp</th>\n",
       "      <th>expanded_urls</th>\n",
       "      <th>rating_numerator</th>\n",
       "      <th>rating_denominator</th>\n",
       "      <th>name</th>\n",
       "      <th>doggo</th>\n",
       "      <th>floofer</th>\n",
       "      <th>pupper</th>\n",
       "      <th>puppo</th>\n",
       "    </tr>\n",
       "  </thead>\n",
       "  <tbody>\n",
       "    <tr>\n",
       "      <th>0</th>\n",
       "      <td>892420643555336193</td>\n",
       "      <td>NaN</td>\n",
       "      <td>NaN</td>\n",
       "      <td>2017-08-01 16:23:56 +0000</td>\n",
       "      <td>&lt;a href=\"http://twitter.com/download/iphone\" r...</td>\n",
       "      <td>This is Phineas. He's a mystical boy. Only eve...</td>\n",
       "      <td>NaN</td>\n",
       "      <td>NaN</td>\n",
       "      <td>NaN</td>\n",
       "      <td>https://twitter.com/dog_rates/status/892420643...</td>\n",
       "      <td>13</td>\n",
       "      <td>10</td>\n",
       "      <td>Phineas</td>\n",
       "      <td>None</td>\n",
       "      <td>None</td>\n",
       "      <td>None</td>\n",
       "      <td>None</td>\n",
       "    </tr>\n",
       "    <tr>\n",
       "      <th>1</th>\n",
       "      <td>892177421306343426</td>\n",
       "      <td>NaN</td>\n",
       "      <td>NaN</td>\n",
       "      <td>2017-08-01 00:17:27 +0000</td>\n",
       "      <td>&lt;a href=\"http://twitter.com/download/iphone\" r...</td>\n",
       "      <td>This is Tilly. She's just checking pup on you....</td>\n",
       "      <td>NaN</td>\n",
       "      <td>NaN</td>\n",
       "      <td>NaN</td>\n",
       "      <td>https://twitter.com/dog_rates/status/892177421...</td>\n",
       "      <td>13</td>\n",
       "      <td>10</td>\n",
       "      <td>Tilly</td>\n",
       "      <td>None</td>\n",
       "      <td>None</td>\n",
       "      <td>None</td>\n",
       "      <td>None</td>\n",
       "    </tr>\n",
       "    <tr>\n",
       "      <th>2</th>\n",
       "      <td>891815181378084864</td>\n",
       "      <td>NaN</td>\n",
       "      <td>NaN</td>\n",
       "      <td>2017-07-31 00:18:03 +0000</td>\n",
       "      <td>&lt;a href=\"http://twitter.com/download/iphone\" r...</td>\n",
       "      <td>This is Archie. He is a rare Norwegian Pouncin...</td>\n",
       "      <td>NaN</td>\n",
       "      <td>NaN</td>\n",
       "      <td>NaN</td>\n",
       "      <td>https://twitter.com/dog_rates/status/891815181...</td>\n",
       "      <td>12</td>\n",
       "      <td>10</td>\n",
       "      <td>Archie</td>\n",
       "      <td>None</td>\n",
       "      <td>None</td>\n",
       "      <td>None</td>\n",
       "      <td>None</td>\n",
       "    </tr>\n",
       "  </tbody>\n",
       "</table>\n",
       "</div>"
      ],
      "text/plain": [
       "             tweet_id  in_reply_to_status_id  in_reply_to_user_id  \\\n",
       "0  892420643555336193                    NaN                  NaN   \n",
       "1  892177421306343426                    NaN                  NaN   \n",
       "2  891815181378084864                    NaN                  NaN   \n",
       "\n",
       "                   timestamp  \\\n",
       "0  2017-08-01 16:23:56 +0000   \n",
       "1  2017-08-01 00:17:27 +0000   \n",
       "2  2017-07-31 00:18:03 +0000   \n",
       "\n",
       "                                              source  \\\n",
       "0  <a href=\"http://twitter.com/download/iphone\" r...   \n",
       "1  <a href=\"http://twitter.com/download/iphone\" r...   \n",
       "2  <a href=\"http://twitter.com/download/iphone\" r...   \n",
       "\n",
       "                                                text  retweeted_status_id  \\\n",
       "0  This is Phineas. He's a mystical boy. Only eve...                  NaN   \n",
       "1  This is Tilly. She's just checking pup on you....                  NaN   \n",
       "2  This is Archie. He is a rare Norwegian Pouncin...                  NaN   \n",
       "\n",
       "   retweeted_status_user_id retweeted_status_timestamp  \\\n",
       "0                       NaN                        NaN   \n",
       "1                       NaN                        NaN   \n",
       "2                       NaN                        NaN   \n",
       "\n",
       "                                       expanded_urls  rating_numerator  \\\n",
       "0  https://twitter.com/dog_rates/status/892420643...                13   \n",
       "1  https://twitter.com/dog_rates/status/892177421...                13   \n",
       "2  https://twitter.com/dog_rates/status/891815181...                12   \n",
       "\n",
       "   rating_denominator     name doggo floofer pupper puppo  \n",
       "0                  10  Phineas  None    None   None  None  \n",
       "1                  10    Tilly  None    None   None  None  \n",
       "2                  10   Archie  None    None   None  None  "
      ]
     },
     "execution_count": 11,
     "metadata": {},
     "output_type": "execute_result"
    }
   ],
   "source": [
    "# Displaying the twitter archive\n",
    "\n",
    "tweet_archive.head(3)"
   ]
  },
  {
   "cell_type": "code",
   "execution_count": 12,
   "metadata": {},
   "outputs": [
    {
     "data": {
      "text/html": [
       "<div>\n",
       "<style scoped>\n",
       "    .dataframe tbody tr th:only-of-type {\n",
       "        vertical-align: middle;\n",
       "    }\n",
       "\n",
       "    .dataframe tbody tr th {\n",
       "        vertical-align: top;\n",
       "    }\n",
       "\n",
       "    .dataframe thead th {\n",
       "        text-align: right;\n",
       "    }\n",
       "</style>\n",
       "<table border=\"1\" class=\"dataframe\">\n",
       "  <thead>\n",
       "    <tr style=\"text-align: right;\">\n",
       "      <th></th>\n",
       "      <th>tweet_id</th>\n",
       "      <th>jpg_url</th>\n",
       "      <th>img_num</th>\n",
       "      <th>p1</th>\n",
       "      <th>p1_conf</th>\n",
       "      <th>p1_dog</th>\n",
       "      <th>p2</th>\n",
       "      <th>p2_conf</th>\n",
       "      <th>p2_dog</th>\n",
       "      <th>p3</th>\n",
       "      <th>p3_conf</th>\n",
       "      <th>p3_dog</th>\n",
       "    </tr>\n",
       "  </thead>\n",
       "  <tbody>\n",
       "    <tr>\n",
       "      <th>0</th>\n",
       "      <td>666020888022790149</td>\n",
       "      <td>https://pbs.twimg.com/media/CT4udn0WwAA0aMy.jpg</td>\n",
       "      <td>1</td>\n",
       "      <td>Welsh_springer_spaniel</td>\n",
       "      <td>0.465074</td>\n",
       "      <td>True</td>\n",
       "      <td>collie</td>\n",
       "      <td>0.156665</td>\n",
       "      <td>True</td>\n",
       "      <td>Shetland_sheepdog</td>\n",
       "      <td>0.061428</td>\n",
       "      <td>True</td>\n",
       "    </tr>\n",
       "    <tr>\n",
       "      <th>1</th>\n",
       "      <td>666029285002620928</td>\n",
       "      <td>https://pbs.twimg.com/media/CT42GRgUYAA5iDo.jpg</td>\n",
       "      <td>1</td>\n",
       "      <td>redbone</td>\n",
       "      <td>0.506826</td>\n",
       "      <td>True</td>\n",
       "      <td>miniature_pinscher</td>\n",
       "      <td>0.074192</td>\n",
       "      <td>True</td>\n",
       "      <td>Rhodesian_ridgeback</td>\n",
       "      <td>0.072010</td>\n",
       "      <td>True</td>\n",
       "    </tr>\n",
       "    <tr>\n",
       "      <th>2</th>\n",
       "      <td>666033412701032449</td>\n",
       "      <td>https://pbs.twimg.com/media/CT4521TWwAEvMyu.jpg</td>\n",
       "      <td>1</td>\n",
       "      <td>German_shepherd</td>\n",
       "      <td>0.596461</td>\n",
       "      <td>True</td>\n",
       "      <td>malinois</td>\n",
       "      <td>0.138584</td>\n",
       "      <td>True</td>\n",
       "      <td>bloodhound</td>\n",
       "      <td>0.116197</td>\n",
       "      <td>True</td>\n",
       "    </tr>\n",
       "  </tbody>\n",
       "</table>\n",
       "</div>"
      ],
      "text/plain": [
       "             tweet_id                                          jpg_url  \\\n",
       "0  666020888022790149  https://pbs.twimg.com/media/CT4udn0WwAA0aMy.jpg   \n",
       "1  666029285002620928  https://pbs.twimg.com/media/CT42GRgUYAA5iDo.jpg   \n",
       "2  666033412701032449  https://pbs.twimg.com/media/CT4521TWwAEvMyu.jpg   \n",
       "\n",
       "   img_num                      p1   p1_conf  p1_dog                  p2  \\\n",
       "0        1  Welsh_springer_spaniel  0.465074    True              collie   \n",
       "1        1                 redbone  0.506826    True  miniature_pinscher   \n",
       "2        1         German_shepherd  0.596461    True            malinois   \n",
       "\n",
       "    p2_conf  p2_dog                   p3   p3_conf  p3_dog  \n",
       "0  0.156665    True    Shetland_sheepdog  0.061428    True  \n",
       "1  0.074192    True  Rhodesian_ridgeback  0.072010    True  \n",
       "2  0.138584    True           bloodhound  0.116197    True  "
      ]
     },
     "execution_count": 12,
     "metadata": {},
     "output_type": "execute_result"
    }
   ],
   "source": [
    "# Displaying the image predictions\n",
    "\n",
    "image_file.head(3)"
   ]
  },
  {
   "cell_type": "code",
   "execution_count": 13,
   "metadata": {},
   "outputs": [
    {
     "data": {
      "text/html": [
       "<div>\n",
       "<style scoped>\n",
       "    .dataframe tbody tr th:only-of-type {\n",
       "        vertical-align: middle;\n",
       "    }\n",
       "\n",
       "    .dataframe tbody tr th {\n",
       "        vertical-align: top;\n",
       "    }\n",
       "\n",
       "    .dataframe thead th {\n",
       "        text-align: right;\n",
       "    }\n",
       "</style>\n",
       "<table border=\"1\" class=\"dataframe\">\n",
       "  <thead>\n",
       "    <tr style=\"text-align: right;\">\n",
       "      <th></th>\n",
       "      <th>tweet_id</th>\n",
       "      <th>retweet_count</th>\n",
       "      <th>favorite_count</th>\n",
       "    </tr>\n",
       "  </thead>\n",
       "  <tbody>\n",
       "    <tr>\n",
       "      <th>0</th>\n",
       "      <td>892420643555336193</td>\n",
       "      <td>8853</td>\n",
       "      <td>39467</td>\n",
       "    </tr>\n",
       "    <tr>\n",
       "      <th>1</th>\n",
       "      <td>892177421306343426</td>\n",
       "      <td>6514</td>\n",
       "      <td>33819</td>\n",
       "    </tr>\n",
       "    <tr>\n",
       "      <th>2</th>\n",
       "      <td>891815181378084864</td>\n",
       "      <td>4328</td>\n",
       "      <td>25461</td>\n",
       "    </tr>\n",
       "  </tbody>\n",
       "</table>\n",
       "</div>"
      ],
      "text/plain": [
       "             tweet_id  retweet_count  favorite_count\n",
       "0  892420643555336193           8853           39467\n",
       "1  892177421306343426           6514           33819\n",
       "2  891815181378084864           4328           25461"
      ]
     },
     "execution_count": 13,
     "metadata": {},
     "output_type": "execute_result"
    }
   ],
   "source": [
    "# displaying the json file gotten from the API\n",
    "\n",
    "json_df.head(3)"
   ]
  },
  {
   "cell_type": "markdown",
   "metadata": {},
   "source": [
    "### Programatic assessment"
   ]
  },
  {
   "cell_type": "markdown",
   "metadata": {},
   "source": [
    "## Assessing my archive file that contains seventeen columns\n",
    "\n",
    "- tweet id: A unique tweet identifier\n",
    "- in_reply_to_status_id: This column contains for replies,the actual original tweet ids.\n",
    "- in_reply_to_user_id: This column contains for replies, user_id of the tweet's author.\n",
    "- timestamp: When the tweet was made.\n",
    "- source: Where was the tweet made from? Iphone, web clients or other sources.\n",
    "- text: The actual tweet.\n",
    "- retweeted_status_id: This column contains for retweet,the actual original tweet ids.\n",
    "- retweeted_status_user_id: This column contains for retweets, user_id of the tweet's author.\n",
    "- retweeted_status_timestamp: time of retweet\n",
    "- expanded_urls: url of tweet\n",
    "- rating_numerator: numerator of dog ratings; ratings almost always greater than 10\n",
    "- rating_denominator: denominator of dog ratings; ratings almost always have a denominator of 10\n",
    "- name: name of the dog\n",
    "- doggo: The dog stage when the dog is a bit bigger than a puppy... two values(None, doggo)\n",
    "- floofer: The dog stage for big dogs... two values(None, floofer)\n",
    "- pupper: The dog stage for a smaller doggo... two values(None, pupper)\n",
    "- puppo: The dog stage for a puppy... two values(None, puppo)\n"
   ]
  },
  {
   "cell_type": "code",
   "execution_count": 14,
   "metadata": {},
   "outputs": [
    {
     "name": "stdout",
     "output_type": "stream",
     "text": [
      "<class 'pandas.core.frame.DataFrame'>\n",
      "RangeIndex: 2356 entries, 0 to 2355\n",
      "Data columns (total 17 columns):\n",
      " #   Column                      Non-Null Count  Dtype  \n",
      "---  ------                      --------------  -----  \n",
      " 0   tweet_id                    2356 non-null   int64  \n",
      " 1   in_reply_to_status_id       78 non-null     float64\n",
      " 2   in_reply_to_user_id         78 non-null     float64\n",
      " 3   timestamp                   2356 non-null   object \n",
      " 4   source                      2356 non-null   object \n",
      " 5   text                        2356 non-null   object \n",
      " 6   retweeted_status_id         181 non-null    float64\n",
      " 7   retweeted_status_user_id    181 non-null    float64\n",
      " 8   retweeted_status_timestamp  181 non-null    object \n",
      " 9   expanded_urls               2297 non-null   object \n",
      " 10  rating_numerator            2356 non-null   int64  \n",
      " 11  rating_denominator          2356 non-null   int64  \n",
      " 12  name                        2356 non-null   object \n",
      " 13  doggo                       2356 non-null   object \n",
      " 14  floofer                     2356 non-null   object \n",
      " 15  pupper                      2356 non-null   object \n",
      " 16  puppo                       2356 non-null   object \n",
      "dtypes: float64(4), int64(3), object(10)\n",
      "memory usage: 313.0+ KB\n"
     ]
    }
   ],
   "source": [
    "#checking my dataset by column to also see its data type\n",
    "tweet_archive.info()"
   ]
  },
  {
   "cell_type": "markdown",
   "metadata": {},
   "source": [
    "The `info()` is an important method for assessing a DataFrame as it gives you columns, number of non-null values and data types for each column which may spark more questions to see what kind of object values are contained in a column.\n",
    "\n",
    "    From the above output, I know that I have some issues which I'll define just after assessing all my dataframes."
   ]
  },
  {
   "cell_type": "code",
   "execution_count": 15,
   "metadata": {},
   "outputs": [
    {
     "data": {
      "text/plain": [
       "array(['<a href=\"http://twitter.com/download/iphone\" rel=\"nofollow\">Twitter for iPhone</a>',\n",
       "       '<a href=\"http://twitter.com\" rel=\"nofollow\">Twitter Web Client</a>',\n",
       "       '<a href=\"http://vine.co\" rel=\"nofollow\">Vine - Make a Scene</a>',\n",
       "       '<a href=\"https://about.twitter.com/products/tweetdeck\" rel=\"nofollow\">TweetDeck</a>'],\n",
       "      dtype=object)"
      ]
     },
     "execution_count": 15,
     "metadata": {},
     "output_type": "execute_result"
    }
   ],
   "source": [
    "tweet_archive.source.unique()"
   ]
  },
  {
   "cell_type": "code",
   "execution_count": 16,
   "metadata": {},
   "outputs": [
    {
     "data": {
      "text/plain": [
       "tweet_id                      2356\n",
       "in_reply_to_status_id           77\n",
       "in_reply_to_user_id             31\n",
       "timestamp                     2356\n",
       "source                           4\n",
       "text                          2356\n",
       "retweeted_status_id            181\n",
       "retweeted_status_user_id        25\n",
       "retweeted_status_timestamp     181\n",
       "expanded_urls                 2218\n",
       "rating_numerator                40\n",
       "rating_denominator              18\n",
       "name                           957\n",
       "doggo                            2\n",
       "floofer                          2\n",
       "pupper                           2\n",
       "puppo                            2\n",
       "dtype: int64"
      ]
     },
     "execution_count": 16,
     "metadata": {},
     "output_type": "execute_result"
    }
   ],
   "source": [
    "#checking the number of unique values in each column\n",
    "tweet_archive.nunique()"
   ]
  },
  {
   "cell_type": "code",
   "execution_count": 17,
   "metadata": {},
   "outputs": [
    {
     "data": {
      "text/plain": [
       "0"
      ]
     },
     "execution_count": 17,
     "metadata": {},
     "output_type": "execute_result"
    }
   ],
   "source": [
    "#check no of duplicated records\n",
    "tweet_archive.duplicated().sum()"
   ]
  },
  {
   "cell_type": "code",
   "execution_count": 18,
   "metadata": {},
   "outputs": [
    {
     "data": {
      "text/plain": [
       "tweet_id                         0\n",
       "in_reply_to_status_id         2278\n",
       "in_reply_to_user_id           2278\n",
       "timestamp                        0\n",
       "source                           0\n",
       "text                             0\n",
       "retweeted_status_id           2175\n",
       "retweeted_status_user_id      2175\n",
       "retweeted_status_timestamp    2175\n",
       "expanded_urls                   59\n",
       "rating_numerator                 0\n",
       "rating_denominator               0\n",
       "name                             0\n",
       "doggo                            0\n",
       "floofer                          0\n",
       "pupper                           0\n",
       "puppo                            0\n",
       "dtype: int64"
      ]
     },
     "execution_count": 18,
     "metadata": {},
     "output_type": "execute_result"
    }
   ],
   "source": [
    "#check columns with null records\n",
    "tweet_archive.isnull().sum()"
   ]
  },
  {
   "cell_type": "markdown",
   "metadata": {},
   "source": [
    "## Assessing my json file that contains three columns\n",
    "\n",
    "- Tweet Ids: A unique tweet identifier\n",
    "- retweet_count: No of retweets on the post( A measure of engagements and popularity on twitter)\n",
    "- favorite_count: No of likes given on a particular tweet."
   ]
  },
  {
   "cell_type": "code",
   "execution_count": 19,
   "metadata": {},
   "outputs": [
    {
     "name": "stdout",
     "output_type": "stream",
     "text": [
      "<class 'pandas.core.frame.DataFrame'>\n",
      "RangeIndex: 2354 entries, 0 to 2353\n",
      "Data columns (total 3 columns):\n",
      " #   Column          Non-Null Count  Dtype\n",
      "---  ------          --------------  -----\n",
      " 0   tweet_id        2354 non-null   int64\n",
      " 1   retweet_count   2354 non-null   int64\n",
      " 2   favorite_count  2354 non-null   int64\n",
      "dtypes: int64(3)\n",
      "memory usage: 55.3 KB\n"
     ]
    }
   ],
   "source": [
    "#view the columns, no of not-null values and data types\n",
    "json_df.info()"
   ]
  },
  {
   "cell_type": "code",
   "execution_count": 20,
   "metadata": {},
   "outputs": [
    {
     "data": {
      "text/plain": [
       "tweet_id          2354\n",
       "retweet_count     1724\n",
       "favorite_count    2007\n",
       "dtype: int64"
      ]
     },
     "execution_count": 20,
     "metadata": {},
     "output_type": "execute_result"
    }
   ],
   "source": [
    "#check no of unique values for each column\n",
    "json_df.nunique()"
   ]
  },
  {
   "cell_type": "code",
   "execution_count": 21,
   "metadata": {},
   "outputs": [
    {
     "data": {
      "text/plain": [
       "0"
      ]
     },
     "execution_count": 21,
     "metadata": {},
     "output_type": "execute_result"
    }
   ],
   "source": [
    "#check no of duplicated records\n",
    "json_df.duplicated().sum()"
   ]
  },
  {
   "cell_type": "markdown",
   "metadata": {},
   "source": [
    "## Assessing my image prediction file that contains twelve columns\n",
    "\n",
    "- Tweet Ids: A unique tweet identifier\n",
    "- jpg_url:  Url to the dog's image. (Image used for sharing the rating)\n",
    "- image_num: Twitter has a maximum of 4 frames. This column shows which image was used for this prediction.\n",
    "- p1, p2, p3: The three predictions done on this image based on an algorithm to detect breed.\n",
    "- p1_conf, p2_conf, p3_conf: How confident the prediction is based on p1,p2,p3 consecutively.\n",
    "- p1_dog, p2_dog, p3_dog: Two values(True or False) whether or not the algorithm correctly predicted the dog or not.\n"
   ]
  },
  {
   "cell_type": "code",
   "execution_count": 22,
   "metadata": {},
   "outputs": [
    {
     "name": "stdout",
     "output_type": "stream",
     "text": [
      "<class 'pandas.core.frame.DataFrame'>\n",
      "RangeIndex: 2075 entries, 0 to 2074\n",
      "Data columns (total 12 columns):\n",
      " #   Column    Non-Null Count  Dtype  \n",
      "---  ------    --------------  -----  \n",
      " 0   tweet_id  2075 non-null   int64  \n",
      " 1   jpg_url   2075 non-null   object \n",
      " 2   img_num   2075 non-null   int64  \n",
      " 3   p1        2075 non-null   object \n",
      " 4   p1_conf   2075 non-null   float64\n",
      " 5   p1_dog    2075 non-null   bool   \n",
      " 6   p2        2075 non-null   object \n",
      " 7   p2_conf   2075 non-null   float64\n",
      " 8   p2_dog    2075 non-null   bool   \n",
      " 9   p3        2075 non-null   object \n",
      " 10  p3_conf   2075 non-null   float64\n",
      " 11  p3_dog    2075 non-null   bool   \n",
      "dtypes: bool(3), float64(3), int64(2), object(4)\n",
      "memory usage: 152.1+ KB\n"
     ]
    }
   ],
   "source": [
    "#view _\n",
    "image_file.info()"
   ]
  },
  {
   "cell_type": "code",
   "execution_count": 23,
   "metadata": {},
   "outputs": [
    {
     "data": {
      "text/plain": [
       "tweet_id    2075\n",
       "jpg_url     2009\n",
       "img_num        4\n",
       "p1           378\n",
       "p1_conf     2006\n",
       "p1_dog         2\n",
       "p2           405\n",
       "p2_conf     2004\n",
       "p2_dog         2\n",
       "p3           408\n",
       "p3_conf     2006\n",
       "p3_dog         2\n",
       "dtype: int64"
      ]
     },
     "execution_count": 23,
     "metadata": {},
     "output_type": "execute_result"
    }
   ],
   "source": [
    "#check no of unique values for each column\n",
    "image_file.nunique()"
   ]
  },
  {
   "cell_type": "code",
   "execution_count": 24,
   "metadata": {},
   "outputs": [
    {
     "data": {
      "text/plain": [
       "0"
      ]
     },
     "execution_count": 24,
     "metadata": {},
     "output_type": "execute_result"
    }
   ],
   "source": [
    "#check no of duplicated records\n",
    "image_file.duplicated().sum()"
   ]
  },
  {
   "cell_type": "code",
   "execution_count": 25,
   "metadata": {},
   "outputs": [
    {
     "data": {
      "text/plain": [
       "tweet_id    0\n",
       "jpg_url     0\n",
       "img_num     0\n",
       "p1          0\n",
       "p1_conf     0\n",
       "p1_dog      0\n",
       "p2          0\n",
       "p2_conf     0\n",
       "p2_dog      0\n",
       "p3          0\n",
       "p3_conf     0\n",
       "p3_dog      0\n",
       "dtype: int64"
      ]
     },
     "execution_count": 25,
     "metadata": {},
     "output_type": "execute_result"
    }
   ],
   "source": [
    "image_file.isnull().sum()"
   ]
  },
  {
   "cell_type": "markdown",
   "metadata": {},
   "source": [
    "From the assessments done, we see that there are no duplicated records and we also see the unique values and other information needed to understand the dataset."
   ]
  },
  {
   "cell_type": "code",
   "execution_count": 26,
   "metadata": {},
   "outputs": [
    {
     "data": {
      "text/plain": [
       "tweet_id          892420643555336193\n",
       "retweet_count                  79515\n",
       "favorite_count                132810\n",
       "dtype: int64"
      ]
     },
     "execution_count": 26,
     "metadata": {},
     "output_type": "execute_result"
    }
   ],
   "source": [
    "json_df.max()"
   ]
  },
  {
   "cell_type": "code",
   "execution_count": 27,
   "metadata": {},
   "outputs": [
    {
     "data": {
      "text/plain": [
       "tweet_id          666020888022790149\n",
       "retweet_count                      0\n",
       "favorite_count                     0\n",
       "dtype: int64"
      ]
     },
     "execution_count": 27,
     "metadata": {},
     "output_type": "execute_result"
    }
   ],
   "source": [
    "json_df.min()"
   ]
  },
  {
   "cell_type": "code",
   "execution_count": 28,
   "metadata": {},
   "outputs": [
    {
     "data": {
      "text/html": [
       "<div>\n",
       "<style scoped>\n",
       "    .dataframe tbody tr th:only-of-type {\n",
       "        vertical-align: middle;\n",
       "    }\n",
       "\n",
       "    .dataframe tbody tr th {\n",
       "        vertical-align: top;\n",
       "    }\n",
       "\n",
       "    .dataframe thead th {\n",
       "        text-align: right;\n",
       "    }\n",
       "</style>\n",
       "<table border=\"1\" class=\"dataframe\">\n",
       "  <thead>\n",
       "    <tr style=\"text-align: right;\">\n",
       "      <th></th>\n",
       "      <th>tweet_id</th>\n",
       "      <th>retweet_count</th>\n",
       "      <th>favorite_count</th>\n",
       "    </tr>\n",
       "  </thead>\n",
       "  <tbody>\n",
       "    <tr>\n",
       "      <th>412</th>\n",
       "      <td>822872901745569793</td>\n",
       "      <td>48265</td>\n",
       "      <td>132810</td>\n",
       "    </tr>\n",
       "  </tbody>\n",
       "</table>\n",
       "</div>"
      ],
      "text/plain": [
       "               tweet_id  retweet_count  favorite_count\n",
       "412  822872901745569793          48265          132810"
      ]
     },
     "execution_count": 28,
     "metadata": {},
     "output_type": "execute_result"
    }
   ],
   "source": [
    "json_df.query('favorite_count == 132810')"
   ]
  },
  {
   "cell_type": "markdown",
   "metadata": {},
   "source": [
    "# CLEANING\n",
    "\n",
    "    Making copies of my data before cleaning to preserve the original dataset.\n",
    "\n",
    "Note: This is good practice for all analyst. 'Always back up your data after gathering' for reference purpose. The `copy()` method does this effortlessly with few letters of code."
   ]
  },
  {
   "cell_type": "code",
   "execution_count": 29,
   "metadata": {},
   "outputs": [],
   "source": [
    "# Making copies of my data before cleaning\n",
    "archive = tweet_archive.copy()\n",
    "images = image_file.copy()\n",
    "json_txt = json_df.copy()"
   ]
  },
  {
   "cell_type": "markdown",
   "metadata": {},
   "source": [
    "## Issues discovered in these datasets.\n",
    "The `archive` dataframe quality issues:\n",
    "\n",
    "1. Data type of the column `tweet_id` is wrong since this is an id it should be a string not int.\n",
    "2. `timestamp` column should be datetime not object. \n",
    "3. Only 78 rows have values in the `in_reply_to_status_id` , `in_reply_to_user_id` These columns hold information for records whose tweets are replies. The rows should be taken out.\n",
    "4. Only 181 rows have values in the `retweeted_status_id` , `retweeted_status_user_id ` , `retweeted_status_timestamp` These columns hold information for records that are retweets and should be taken out to eliminate bias\n",
    "5. Missing values in `expanded_urls` columns\n",
    "6. Check the `name` column to correct values that are not actual dog names.\n",
    "\n",
    "The `json_txt` dataframe quality issues:\n",
    "\n",
    "7. Data type of the column `tweet_id` is wrong since this is an id, it should be a string not int.\n",
    "\n",
    "The `images` dataframe quality issues:\n",
    "\n",
    "8. Data type of the column `tweet_id` is wrong since this is an id it should be a string not int.\n",
    "9. Check the p1,p2,p3 \n",
    "\n",
    "\n",
    "## Tidiness\n",
    "\n",
    "- Drop extraneous columns\n",
    "- Combine dog stages into one\n",
    "- Merge the dataset to have one master dataset for analysis"
   ]
  },
  {
   "cell_type": "markdown",
   "metadata": {},
   "source": [
    "### DEFINE\n",
    "\n",
    "Change all tweet_id to string."
   ]
  },
  {
   "cell_type": "markdown",
   "metadata": {},
   "source": [
    "### CODE"
   ]
  },
  {
   "cell_type": "code",
   "execution_count": 30,
   "metadata": {},
   "outputs": [],
   "source": [
    "# Convert tweet_id column to string\n",
    "archive['tweet_id'] = archive['tweet_id'].astype(str)\n",
    "json_txt['tweet_id'] = json_txt['tweet_id'].astype(str)\n",
    "images['tweet_id'] = images['tweet_id'].astype(str)"
   ]
  },
  {
   "cell_type": "markdown",
   "metadata": {},
   "source": [
    "### TEST"
   ]
  },
  {
   "cell_type": "code",
   "execution_count": 31,
   "metadata": {},
   "outputs": [
    {
     "name": "stdout",
     "output_type": "stream",
     "text": [
      "<class 'str'>\n",
      "<class 'str'>\n",
      "<class 'str'>\n"
     ]
    }
   ],
   "source": [
    "print(type(archive.tweet_id[0]))\n",
    "print(type(json_txt.tweet_id[0]))\n",
    "print(type(images.tweet_id[0]))"
   ]
  },
  {
   "cell_type": "markdown",
   "metadata": {},
   "source": [
    "### DEFINE\n",
    "\n",
    "Change timestamp from object to datetime"
   ]
  },
  {
   "cell_type": "markdown",
   "metadata": {},
   "source": [
    "### CODE"
   ]
  },
  {
   "cell_type": "code",
   "execution_count": 32,
   "metadata": {},
   "outputs": [],
   "source": [
    "# Convert timestamp column to datetime\n",
    "archive['timestamp'] = pd.to_datetime(archive['timestamp'])"
   ]
  },
  {
   "cell_type": "markdown",
   "metadata": {},
   "source": [
    "### TEST"
   ]
  },
  {
   "cell_type": "code",
   "execution_count": 33,
   "metadata": {},
   "outputs": [
    {
     "data": {
      "text/plain": [
       "datetime64[ns, UTC]"
      ]
     },
     "execution_count": 33,
     "metadata": {},
     "output_type": "execute_result"
    }
   ],
   "source": [
    "#confirm the datatype for timstamp\n",
    "archive.timestamp.dtype"
   ]
  },
  {
   "cell_type": "markdown",
   "metadata": {},
   "source": [
    "### DEFINE\n",
    "\n",
    "Only 78 rows have values in the `in_reply_to_status_id` , `in_reply_to_user_id` These columns hold information for records whose tweets are replies. The rows should be taken out with records should be taken out."
   ]
  },
  {
   "cell_type": "markdown",
   "metadata": {},
   "source": [
    "### CODE"
   ]
  },
  {
   "cell_type": "code",
   "execution_count": 34,
   "metadata": {},
   "outputs": [],
   "source": [
    "#Remove records that speak to replies; These are rows that have values in the two reply columns\n",
    "#This is done using the query function to query only rows where these columns are null.\n",
    "\n",
    "archive = archive.query('in_reply_to_status_id.isnull()')\n",
    "archive = archive.query('in_reply_to_user_id.isnull()')"
   ]
  },
  {
   "cell_type": "markdown",
   "metadata": {},
   "source": [
    "### TEST\n",
    "\n"
   ]
  },
  {
   "cell_type": "code",
   "execution_count": 35,
   "metadata": {},
   "outputs": [
    {
     "name": "stdout",
     "output_type": "stream",
     "text": [
      "0\n",
      "0\n"
     ]
    }
   ],
   "source": [
    "#ensure we have no rows with values for both fields\n",
    "\n",
    "print(sum(archive['in_reply_to_status_id'].notnull()))\n",
    "print(sum(archive['in_reply_to_user_id'].notnull()))"
   ]
  },
  {
   "cell_type": "code",
   "execution_count": 36,
   "metadata": {},
   "outputs": [
    {
     "data": {
      "text/plain": [
       "(2278, 17)"
      ]
     },
     "execution_count": 36,
     "metadata": {},
     "output_type": "execute_result"
    }
   ],
   "source": [
    "#confirm the size of our dataframe has reduced by 78.\n",
    "archive.shape"
   ]
  },
  {
   "cell_type": "markdown",
   "metadata": {},
   "source": [
    "### DEFINE\n",
    "\n",
    "Only 181 rows have values in the `retweeted_status_id` , `retweeted_status_user_id ` , `retweeted_status_timestamp` These columns hold information for records that are retweets and should be taken out to eliminate bias. The rows should be taken out with records should be taken out.\n"
   ]
  },
  {
   "cell_type": "markdown",
   "metadata": {},
   "source": [
    "### CODE"
   ]
  },
  {
   "cell_type": "code",
   "execution_count": 37,
   "metadata": {},
   "outputs": [],
   "source": [
    "#Remove records that speak to retweets; These are rows that have values in the three retweet columns\n",
    "#This is done using the query function to query only rows where these columns are null.\n",
    "\n",
    "archive = archive.query('retweeted_status_id.isnull()')\n",
    "archive = archive.query('retweeted_status_user_id.isnull()')\n",
    "archive = archive.query('retweeted_status_timestamp.isnull()')"
   ]
  },
  {
   "cell_type": "markdown",
   "metadata": {},
   "source": [
    "### TEST"
   ]
  },
  {
   "cell_type": "code",
   "execution_count": 38,
   "metadata": {},
   "outputs": [
    {
     "name": "stdout",
     "output_type": "stream",
     "text": [
      "0\n",
      "0\n",
      "0\n"
     ]
    }
   ],
   "source": [
    "#confirm that all rows with values for retweet columns have been dropped.\n",
    "print(sum(archive['retweeted_status_id'].notnull()))\n",
    "print(sum(archive['retweeted_status_user_id'].notnull()))\n",
    "print(sum(archive['retweeted_status_timestamp'].notnull()))"
   ]
  },
  {
   "cell_type": "code",
   "execution_count": 39,
   "metadata": {},
   "outputs": [
    {
     "name": "stdout",
     "output_type": "stream",
     "text": [
      "<class 'pandas.core.frame.DataFrame'>\n",
      "Int64Index: 2097 entries, 0 to 2355\n",
      "Data columns (total 17 columns):\n",
      " #   Column                      Non-Null Count  Dtype              \n",
      "---  ------                      --------------  -----              \n",
      " 0   tweet_id                    2097 non-null   object             \n",
      " 1   in_reply_to_status_id       0 non-null      float64            \n",
      " 2   in_reply_to_user_id         0 non-null      float64            \n",
      " 3   timestamp                   2097 non-null   datetime64[ns, UTC]\n",
      " 4   source                      2097 non-null   object             \n",
      " 5   text                        2097 non-null   object             \n",
      " 6   retweeted_status_id         0 non-null      float64            \n",
      " 7   retweeted_status_user_id    0 non-null      float64            \n",
      " 8   retweeted_status_timestamp  0 non-null      object             \n",
      " 9   expanded_urls               2094 non-null   object             \n",
      " 10  rating_numerator            2097 non-null   int64              \n",
      " 11  rating_denominator          2097 non-null   int64              \n",
      " 12  name                        2097 non-null   object             \n",
      " 13  doggo                       2097 non-null   object             \n",
      " 14  floofer                     2097 non-null   object             \n",
      " 15  pupper                      2097 non-null   object             \n",
      " 16  puppo                       2097 non-null   object             \n",
      "dtypes: datetime64[ns, UTC](1), float64(4), int64(2), object(10)\n",
      "memory usage: 294.9+ KB\n"
     ]
    }
   ],
   "source": [
    "# check to see changes made were effected.\n",
    "\n",
    "archive.info()"
   ]
  },
  {
   "cell_type": "markdown",
   "metadata": {},
   "source": [
    "### DEFINE\n",
    "\n",
    "Drop the five columns with 0 non-null values (two reply and three retweets columns). They wont be useful to our analysis.\n",
    "Also the expanded url column is not useful for this analysis as it also has missing values for some records."
   ]
  },
  {
   "cell_type": "markdown",
   "metadata": {},
   "source": [
    "### CODE"
   ]
  },
  {
   "cell_type": "code",
   "execution_count": 40,
   "metadata": {},
   "outputs": [],
   "source": [
    "columns_to_drop = ['in_reply_to_status_id', 'in_reply_to_user_id', 'retweeted_status_id', \n",
    "             'retweeted_status_user_id','retweeted_status_timestamp', 'expanded_urls']\n",
    "archive.drop(columns_to_drop, axis=1, inplace=True)"
   ]
  },
  {
   "cell_type": "markdown",
   "metadata": {},
   "source": [
    "### TEST"
   ]
  },
  {
   "cell_type": "code",
   "execution_count": 41,
   "metadata": {},
   "outputs": [
    {
     "name": "stdout",
     "output_type": "stream",
     "text": [
      "<class 'pandas.core.frame.DataFrame'>\n",
      "Int64Index: 2097 entries, 0 to 2355\n",
      "Data columns (total 11 columns):\n",
      " #   Column              Non-Null Count  Dtype              \n",
      "---  ------              --------------  -----              \n",
      " 0   tweet_id            2097 non-null   object             \n",
      " 1   timestamp           2097 non-null   datetime64[ns, UTC]\n",
      " 2   source              2097 non-null   object             \n",
      " 3   text                2097 non-null   object             \n",
      " 4   rating_numerator    2097 non-null   int64              \n",
      " 5   rating_denominator  2097 non-null   int64              \n",
      " 6   name                2097 non-null   object             \n",
      " 7   doggo               2097 non-null   object             \n",
      " 8   floofer             2097 non-null   object             \n",
      " 9   pupper              2097 non-null   object             \n",
      " 10  puppo               2097 non-null   object             \n",
      "dtypes: datetime64[ns, UTC](1), int64(2), object(8)\n",
      "memory usage: 196.6+ KB\n"
     ]
    }
   ],
   "source": [
    "archive.info()"
   ]
  },
  {
   "cell_type": "markdown",
   "metadata": {},
   "source": [
    "### DEFINE\n",
    "\n",
    "Looking at the rating_numerators, we may want to understand how this is done."
   ]
  },
  {
   "cell_type": "code",
   "execution_count": 42,
   "metadata": {},
   "outputs": [
    {
     "data": {
      "text/plain": [
       "12      486\n",
       "10      436\n",
       "11      413\n",
       "13      287\n",
       "9       153\n",
       "8        98\n",
       "7        52\n",
       "14       38\n",
       "5        34\n",
       "6        32\n",
       "3        19\n",
       "4        16\n",
       "2         9\n",
       "1         5\n",
       "27        1\n",
       "45        1\n",
       "88        1\n",
       "144       1\n",
       "26        1\n",
       "121       1\n",
       "44        1\n",
       "60        1\n",
       "80        1\n",
       "75        1\n",
       "99        1\n",
       "50        1\n",
       "204       1\n",
       "1776      1\n",
       "165       1\n",
       "0         1\n",
       "84        1\n",
       "24        1\n",
       "420       1\n",
       "Name: rating_numerator, dtype: int64"
      ]
     },
     "execution_count": 42,
     "metadata": {},
     "output_type": "execute_result"
    }
   ],
   "source": [
    "archive.rating_numerator.value_counts()"
   ]
  },
  {
   "cell_type": "markdown",
   "metadata": {},
   "source": [
    "Seeing that we have values way above the expected 15/10 ratings. I would further explore the text columns to see what we are missing."
   ]
  },
  {
   "cell_type": "code",
   "execution_count": 43,
   "metadata": {},
   "outputs": [
    {
     "data": {
      "text/html": [
       "<div>\n",
       "<style scoped>\n",
       "    .dataframe tbody tr th:only-of-type {\n",
       "        vertical-align: middle;\n",
       "    }\n",
       "\n",
       "    .dataframe tbody tr th {\n",
       "        vertical-align: top;\n",
       "    }\n",
       "\n",
       "    .dataframe thead th {\n",
       "        text-align: right;\n",
       "    }\n",
       "</style>\n",
       "<table border=\"1\" class=\"dataframe\">\n",
       "  <thead>\n",
       "    <tr style=\"text-align: right;\">\n",
       "      <th></th>\n",
       "      <th>tweet_id</th>\n",
       "      <th>timestamp</th>\n",
       "      <th>source</th>\n",
       "      <th>text</th>\n",
       "      <th>rating_numerator</th>\n",
       "      <th>rating_denominator</th>\n",
       "      <th>name</th>\n",
       "      <th>doggo</th>\n",
       "      <th>floofer</th>\n",
       "      <th>pupper</th>\n",
       "      <th>puppo</th>\n",
       "    </tr>\n",
       "  </thead>\n",
       "  <tbody>\n",
       "    <tr>\n",
       "      <th>1712</th>\n",
       "      <td>680494726643068929</td>\n",
       "      <td>2015-12-25 21:06:00+00:00</td>\n",
       "      <td>&lt;a href=\"http://twitter.com/download/iphone\" r...</td>\n",
       "      <td>Here we have uncovered an entire battalion of ...</td>\n",
       "      <td>26</td>\n",
       "      <td>10</td>\n",
       "      <td>None</td>\n",
       "      <td>None</td>\n",
       "      <td>None</td>\n",
       "      <td>None</td>\n",
       "      <td>None</td>\n",
       "    </tr>\n",
       "    <tr>\n",
       "      <th>979</th>\n",
       "      <td>749981277374128128</td>\n",
       "      <td>2016-07-04 15:00:45+00:00</td>\n",
       "      <td>&lt;a href=\"https://about.twitter.com/products/tw...</td>\n",
       "      <td>This is Atticus. He's quite simply America af....</td>\n",
       "      <td>1776</td>\n",
       "      <td>10</td>\n",
       "      <td>Atticus</td>\n",
       "      <td>None</td>\n",
       "      <td>None</td>\n",
       "      <td>None</td>\n",
       "      <td>None</td>\n",
       "    </tr>\n",
       "    <tr>\n",
       "      <th>1779</th>\n",
       "      <td>677716515794329600</td>\n",
       "      <td>2015-12-18 05:06:23+00:00</td>\n",
       "      <td>&lt;a href=\"http://twitter.com/download/iphone\" r...</td>\n",
       "      <td>IT'S PUPPERGEDDON. Total of 144/120 ...I think...</td>\n",
       "      <td>144</td>\n",
       "      <td>120</td>\n",
       "      <td>None</td>\n",
       "      <td>None</td>\n",
       "      <td>None</td>\n",
       "      <td>None</td>\n",
       "      <td>None</td>\n",
       "    </tr>\n",
       "    <tr>\n",
       "      <th>902</th>\n",
       "      <td>758467244762497024</td>\n",
       "      <td>2016-07-28 01:00:57+00:00</td>\n",
       "      <td>&lt;a href=\"http://twitter.com/download/iphone\" r...</td>\n",
       "      <td>Why does this never happen at my front door......</td>\n",
       "      <td>165</td>\n",
       "      <td>150</td>\n",
       "      <td>None</td>\n",
       "      <td>None</td>\n",
       "      <td>None</td>\n",
       "      <td>None</td>\n",
       "      <td>None</td>\n",
       "    </tr>\n",
       "    <tr>\n",
       "      <th>1274</th>\n",
       "      <td>709198395643068416</td>\n",
       "      <td>2016-03-14 02:04:08+00:00</td>\n",
       "      <td>&lt;a href=\"http://twitter.com/download/iphone\" r...</td>\n",
       "      <td>From left to right:\\nCletus, Jerome, Alejandro...</td>\n",
       "      <td>45</td>\n",
       "      <td>50</td>\n",
       "      <td>None</td>\n",
       "      <td>None</td>\n",
       "      <td>None</td>\n",
       "      <td>None</td>\n",
       "      <td>None</td>\n",
       "    </tr>\n",
       "    <tr>\n",
       "      <th>1843</th>\n",
       "      <td>675853064436391936</td>\n",
       "      <td>2015-12-13 01:41:41+00:00</td>\n",
       "      <td>&lt;a href=\"http://twitter.com/download/iphone\" r...</td>\n",
       "      <td>Here we have an entire platoon of puppers. Tot...</td>\n",
       "      <td>88</td>\n",
       "      <td>80</td>\n",
       "      <td>None</td>\n",
       "      <td>None</td>\n",
       "      <td>None</td>\n",
       "      <td>None</td>\n",
       "      <td>None</td>\n",
       "    </tr>\n",
       "    <tr>\n",
       "      <th>516</th>\n",
       "      <td>810984652412424192</td>\n",
       "      <td>2016-12-19 23:06:23+00:00</td>\n",
       "      <td>&lt;a href=\"http://twitter.com/download/iphone\" r...</td>\n",
       "      <td>Meet Sam. She smiles 24/7 &amp;amp; secretly aspir...</td>\n",
       "      <td>24</td>\n",
       "      <td>7</td>\n",
       "      <td>Sam</td>\n",
       "      <td>None</td>\n",
       "      <td>None</td>\n",
       "      <td>None</td>\n",
       "      <td>None</td>\n",
       "    </tr>\n",
       "    <tr>\n",
       "      <th>1635</th>\n",
       "      <td>684222868335505415</td>\n",
       "      <td>2016-01-05 04:00:18+00:00</td>\n",
       "      <td>&lt;a href=\"http://twitter.com/download/iphone\" r...</td>\n",
       "      <td>Someone help the girl is being mugged. Several...</td>\n",
       "      <td>121</td>\n",
       "      <td>110</td>\n",
       "      <td>None</td>\n",
       "      <td>None</td>\n",
       "      <td>None</td>\n",
       "      <td>None</td>\n",
       "      <td>None</td>\n",
       "    </tr>\n",
       "    <tr>\n",
       "      <th>1254</th>\n",
       "      <td>710658690886586372</td>\n",
       "      <td>2016-03-18 02:46:49+00:00</td>\n",
       "      <td>&lt;a href=\"http://twitter.com/download/iphone\" r...</td>\n",
       "      <td>Here's a brigade of puppers. All look very pre...</td>\n",
       "      <td>80</td>\n",
       "      <td>80</td>\n",
       "      <td>None</td>\n",
       "      <td>None</td>\n",
       "      <td>None</td>\n",
       "      <td>None</td>\n",
       "      <td>None</td>\n",
       "    </tr>\n",
       "    <tr>\n",
       "      <th>695</th>\n",
       "      <td>786709082849828864</td>\n",
       "      <td>2016-10-13 23:23:56+00:00</td>\n",
       "      <td>&lt;a href=\"http://twitter.com/download/iphone\" r...</td>\n",
       "      <td>This is Logan, the Chow who lived. He solemnly...</td>\n",
       "      <td>75</td>\n",
       "      <td>10</td>\n",
       "      <td>Logan</td>\n",
       "      <td>None</td>\n",
       "      <td>None</td>\n",
       "      <td>None</td>\n",
       "      <td>None</td>\n",
       "    </tr>\n",
       "  </tbody>\n",
       "</table>\n",
       "</div>"
      ],
      "text/plain": [
       "                tweet_id                 timestamp  \\\n",
       "1712  680494726643068929 2015-12-25 21:06:00+00:00   \n",
       "979   749981277374128128 2016-07-04 15:00:45+00:00   \n",
       "1779  677716515794329600 2015-12-18 05:06:23+00:00   \n",
       "902   758467244762497024 2016-07-28 01:00:57+00:00   \n",
       "1274  709198395643068416 2016-03-14 02:04:08+00:00   \n",
       "1843  675853064436391936 2015-12-13 01:41:41+00:00   \n",
       "516   810984652412424192 2016-12-19 23:06:23+00:00   \n",
       "1635  684222868335505415 2016-01-05 04:00:18+00:00   \n",
       "1254  710658690886586372 2016-03-18 02:46:49+00:00   \n",
       "695   786709082849828864 2016-10-13 23:23:56+00:00   \n",
       "\n",
       "                                                 source  \\\n",
       "1712  <a href=\"http://twitter.com/download/iphone\" r...   \n",
       "979   <a href=\"https://about.twitter.com/products/tw...   \n",
       "1779  <a href=\"http://twitter.com/download/iphone\" r...   \n",
       "902   <a href=\"http://twitter.com/download/iphone\" r...   \n",
       "1274  <a href=\"http://twitter.com/download/iphone\" r...   \n",
       "1843  <a href=\"http://twitter.com/download/iphone\" r...   \n",
       "516   <a href=\"http://twitter.com/download/iphone\" r...   \n",
       "1635  <a href=\"http://twitter.com/download/iphone\" r...   \n",
       "1254  <a href=\"http://twitter.com/download/iphone\" r...   \n",
       "695   <a href=\"http://twitter.com/download/iphone\" r...   \n",
       "\n",
       "                                                   text  rating_numerator  \\\n",
       "1712  Here we have uncovered an entire battalion of ...                26   \n",
       "979   This is Atticus. He's quite simply America af....              1776   \n",
       "1779  IT'S PUPPERGEDDON. Total of 144/120 ...I think...               144   \n",
       "902   Why does this never happen at my front door......               165   \n",
       "1274  From left to right:\\nCletus, Jerome, Alejandro...                45   \n",
       "1843  Here we have an entire platoon of puppers. Tot...                88   \n",
       "516   Meet Sam. She smiles 24/7 &amp; secretly aspir...                24   \n",
       "1635  Someone help the girl is being mugged. Several...               121   \n",
       "1254  Here's a brigade of puppers. All look very pre...                80   \n",
       "695   This is Logan, the Chow who lived. He solemnly...                75   \n",
       "\n",
       "      rating_denominator     name doggo floofer pupper puppo  \n",
       "1712                  10     None  None    None   None  None  \n",
       "979                   10  Atticus  None    None   None  None  \n",
       "1779                 120     None  None    None   None  None  \n",
       "902                  150     None  None    None   None  None  \n",
       "1274                  50     None  None    None   None  None  \n",
       "1843                  80     None  None    None   None  None  \n",
       "516                    7      Sam  None    None   None  None  \n",
       "1635                 110     None  None    None   None  None  \n",
       "1254                  80     None  None    None   None  None  \n",
       "695                   10    Logan  None    None   None  None  "
      ]
     },
     "execution_count": 43,
     "metadata": {},
     "output_type": "execute_result"
    }
   ],
   "source": [
    "archive.query('rating_numerator > 15').sample(10)"
   ]
  },
  {
   "cell_type": "code",
   "execution_count": 44,
   "metadata": {},
   "outputs": [
    {
     "data": {
      "text/html": [
       "<div>\n",
       "<style scoped>\n",
       "    .dataframe tbody tr th:only-of-type {\n",
       "        vertical-align: middle;\n",
       "    }\n",
       "\n",
       "    .dataframe tbody tr th {\n",
       "        vertical-align: top;\n",
       "    }\n",
       "\n",
       "    .dataframe thead th {\n",
       "        text-align: right;\n",
       "    }\n",
       "</style>\n",
       "<table border=\"1\" class=\"dataframe\">\n",
       "  <thead>\n",
       "    <tr style=\"text-align: right;\">\n",
       "      <th></th>\n",
       "      <th>tweet_id</th>\n",
       "      <th>timestamp</th>\n",
       "      <th>source</th>\n",
       "      <th>text</th>\n",
       "      <th>rating_numerator</th>\n",
       "      <th>rating_denominator</th>\n",
       "      <th>name</th>\n",
       "      <th>doggo</th>\n",
       "      <th>floofer</th>\n",
       "      <th>pupper</th>\n",
       "      <th>puppo</th>\n",
       "    </tr>\n",
       "  </thead>\n",
       "  <tbody>\n",
       "    <tr>\n",
       "      <th>481</th>\n",
       "      <td>815639385530101762</td>\n",
       "      <td>2017-01-01 19:22:38+00:00</td>\n",
       "      <td>&lt;a href=\"http://twitter.com/download/iphone\" r...</td>\n",
       "      <td>This is Titan. His nose is quite chilly. Reque...</td>\n",
       "      <td>12</td>\n",
       "      <td>10</td>\n",
       "      <td>Titan</td>\n",
       "      <td>None</td>\n",
       "      <td>None</td>\n",
       "      <td>None</td>\n",
       "      <td>None</td>\n",
       "    </tr>\n",
       "  </tbody>\n",
       "</table>\n",
       "</div>"
      ],
      "text/plain": [
       "               tweet_id                 timestamp  \\\n",
       "481  815639385530101762 2017-01-01 19:22:38+00:00   \n",
       "\n",
       "                                                source  \\\n",
       "481  <a href=\"http://twitter.com/download/iphone\" r...   \n",
       "\n",
       "                                                  text  rating_numerator  \\\n",
       "481  This is Titan. His nose is quite chilly. Reque...                12   \n",
       "\n",
       "     rating_denominator   name doggo floofer pupper puppo  \n",
       "481                  10  Titan  None    None   None  None  "
      ]
     },
     "execution_count": 44,
     "metadata": {},
     "output_type": "execute_result"
    }
   ],
   "source": [
    "# To enable me explore the text column well, I expand the column width and check.\n",
    "\n",
    "archive.style.set_properties(subset = ['text'], **{'width':'500px'})\n",
    "archive.sample(1)"
   ]
  },
  {
   "cell_type": "code",
   "execution_count": 45,
   "metadata": {},
   "outputs": [
    {
     "data": {
      "text/html": [
       "<div>\n",
       "<style scoped>\n",
       "    .dataframe tbody tr th:only-of-type {\n",
       "        vertical-align: middle;\n",
       "    }\n",
       "\n",
       "    .dataframe tbody tr th {\n",
       "        vertical-align: top;\n",
       "    }\n",
       "\n",
       "    .dataframe thead th {\n",
       "        text-align: right;\n",
       "    }\n",
       "</style>\n",
       "<table border=\"1\" class=\"dataframe\">\n",
       "  <thead>\n",
       "    <tr style=\"text-align: right;\">\n",
       "      <th></th>\n",
       "      <th>tweet_id</th>\n",
       "      <th>timestamp</th>\n",
       "      <th>source</th>\n",
       "      <th>text</th>\n",
       "      <th>rating_numerator</th>\n",
       "      <th>rating_denominator</th>\n",
       "      <th>name</th>\n",
       "      <th>doggo</th>\n",
       "      <th>floofer</th>\n",
       "      <th>pupper</th>\n",
       "      <th>puppo</th>\n",
       "    </tr>\n",
       "  </thead>\n",
       "  <tbody>\n",
       "    <tr>\n",
       "      <th>433</th>\n",
       "      <td>820690176645140481</td>\n",
       "      <td>2017-01-15 17:52:40+00:00</td>\n",
       "      <td>&lt;a href=\"http://twitter.com/download/iphone\" r...</td>\n",
       "      <td>The floofs have been released I repeat the flo...</td>\n",
       "      <td>84</td>\n",
       "      <td>70</td>\n",
       "      <td>None</td>\n",
       "      <td>None</td>\n",
       "      <td>None</td>\n",
       "      <td>None</td>\n",
       "      <td>None</td>\n",
       "    </tr>\n",
       "    <tr>\n",
       "      <th>516</th>\n",
       "      <td>810984652412424192</td>\n",
       "      <td>2016-12-19 23:06:23+00:00</td>\n",
       "      <td>&lt;a href=\"http://twitter.com/download/iphone\" r...</td>\n",
       "      <td>Meet Sam. She smiles 24/7 &amp;amp; secretly aspir...</td>\n",
       "      <td>24</td>\n",
       "      <td>7</td>\n",
       "      <td>Sam</td>\n",
       "      <td>None</td>\n",
       "      <td>None</td>\n",
       "      <td>None</td>\n",
       "      <td>None</td>\n",
       "    </tr>\n",
       "    <tr>\n",
       "      <th>695</th>\n",
       "      <td>786709082849828864</td>\n",
       "      <td>2016-10-13 23:23:56+00:00</td>\n",
       "      <td>&lt;a href=\"http://twitter.com/download/iphone\" r...</td>\n",
       "      <td>This is Logan, the Chow who lived. He solemnly...</td>\n",
       "      <td>75</td>\n",
       "      <td>10</td>\n",
       "      <td>Logan</td>\n",
       "      <td>None</td>\n",
       "      <td>None</td>\n",
       "      <td>None</td>\n",
       "      <td>None</td>\n",
       "    </tr>\n",
       "    <tr>\n",
       "      <th>763</th>\n",
       "      <td>778027034220126208</td>\n",
       "      <td>2016-09-20 00:24:34+00:00</td>\n",
       "      <td>&lt;a href=\"http://twitter.com/download/iphone\" r...</td>\n",
       "      <td>This is Sophie. She's a Jubilant Bush Pupper. ...</td>\n",
       "      <td>27</td>\n",
       "      <td>10</td>\n",
       "      <td>Sophie</td>\n",
       "      <td>None</td>\n",
       "      <td>None</td>\n",
       "      <td>pupper</td>\n",
       "      <td>None</td>\n",
       "    </tr>\n",
       "    <tr>\n",
       "      <th>902</th>\n",
       "      <td>758467244762497024</td>\n",
       "      <td>2016-07-28 01:00:57+00:00</td>\n",
       "      <td>&lt;a href=\"http://twitter.com/download/iphone\" r...</td>\n",
       "      <td>Why does this never happen at my front door......</td>\n",
       "      <td>165</td>\n",
       "      <td>150</td>\n",
       "      <td>None</td>\n",
       "      <td>None</td>\n",
       "      <td>None</td>\n",
       "      <td>None</td>\n",
       "      <td>None</td>\n",
       "    </tr>\n",
       "    <tr>\n",
       "      <th>979</th>\n",
       "      <td>749981277374128128</td>\n",
       "      <td>2016-07-04 15:00:45+00:00</td>\n",
       "      <td>&lt;a href=\"https://about.twitter.com/products/tw...</td>\n",
       "      <td>This is Atticus. He's quite simply America af....</td>\n",
       "      <td>1776</td>\n",
       "      <td>10</td>\n",
       "      <td>Atticus</td>\n",
       "      <td>None</td>\n",
       "      <td>None</td>\n",
       "      <td>None</td>\n",
       "      <td>None</td>\n",
       "    </tr>\n",
       "    <tr>\n",
       "      <th>1120</th>\n",
       "      <td>731156023742988288</td>\n",
       "      <td>2016-05-13 16:15:54+00:00</td>\n",
       "      <td>&lt;a href=\"http://twitter.com/download/iphone\" r...</td>\n",
       "      <td>Say hello to this unbelievably well behaved sq...</td>\n",
       "      <td>204</td>\n",
       "      <td>170</td>\n",
       "      <td>this</td>\n",
       "      <td>None</td>\n",
       "      <td>None</td>\n",
       "      <td>None</td>\n",
       "      <td>None</td>\n",
       "    </tr>\n",
       "    <tr>\n",
       "      <th>1202</th>\n",
       "      <td>716439118184652801</td>\n",
       "      <td>2016-04-03 01:36:11+00:00</td>\n",
       "      <td>&lt;a href=\"http://twitter.com/download/iphone\" r...</td>\n",
       "      <td>This is Bluebert. He just saw that both #Final...</td>\n",
       "      <td>50</td>\n",
       "      <td>50</td>\n",
       "      <td>Bluebert</td>\n",
       "      <td>None</td>\n",
       "      <td>None</td>\n",
       "      <td>None</td>\n",
       "      <td>None</td>\n",
       "    </tr>\n",
       "    <tr>\n",
       "      <th>1228</th>\n",
       "      <td>713900603437621249</td>\n",
       "      <td>2016-03-27 01:29:02+00:00</td>\n",
       "      <td>&lt;a href=\"http://twitter.com/download/iphone\" r...</td>\n",
       "      <td>Happy Saturday here's 9 puppers on a bench. 99...</td>\n",
       "      <td>99</td>\n",
       "      <td>90</td>\n",
       "      <td>None</td>\n",
       "      <td>None</td>\n",
       "      <td>None</td>\n",
       "      <td>None</td>\n",
       "      <td>None</td>\n",
       "    </tr>\n",
       "    <tr>\n",
       "      <th>1254</th>\n",
       "      <td>710658690886586372</td>\n",
       "      <td>2016-03-18 02:46:49+00:00</td>\n",
       "      <td>&lt;a href=\"http://twitter.com/download/iphone\" r...</td>\n",
       "      <td>Here's a brigade of puppers. All look very pre...</td>\n",
       "      <td>80</td>\n",
       "      <td>80</td>\n",
       "      <td>None</td>\n",
       "      <td>None</td>\n",
       "      <td>None</td>\n",
       "      <td>None</td>\n",
       "      <td>None</td>\n",
       "    </tr>\n",
       "  </tbody>\n",
       "</table>\n",
       "</div>"
      ],
      "text/plain": [
       "                tweet_id                 timestamp  \\\n",
       "433   820690176645140481 2017-01-15 17:52:40+00:00   \n",
       "516   810984652412424192 2016-12-19 23:06:23+00:00   \n",
       "695   786709082849828864 2016-10-13 23:23:56+00:00   \n",
       "763   778027034220126208 2016-09-20 00:24:34+00:00   \n",
       "902   758467244762497024 2016-07-28 01:00:57+00:00   \n",
       "979   749981277374128128 2016-07-04 15:00:45+00:00   \n",
       "1120  731156023742988288 2016-05-13 16:15:54+00:00   \n",
       "1202  716439118184652801 2016-04-03 01:36:11+00:00   \n",
       "1228  713900603437621249 2016-03-27 01:29:02+00:00   \n",
       "1254  710658690886586372 2016-03-18 02:46:49+00:00   \n",
       "\n",
       "                                                 source  \\\n",
       "433   <a href=\"http://twitter.com/download/iphone\" r...   \n",
       "516   <a href=\"http://twitter.com/download/iphone\" r...   \n",
       "695   <a href=\"http://twitter.com/download/iphone\" r...   \n",
       "763   <a href=\"http://twitter.com/download/iphone\" r...   \n",
       "902   <a href=\"http://twitter.com/download/iphone\" r...   \n",
       "979   <a href=\"https://about.twitter.com/products/tw...   \n",
       "1120  <a href=\"http://twitter.com/download/iphone\" r...   \n",
       "1202  <a href=\"http://twitter.com/download/iphone\" r...   \n",
       "1228  <a href=\"http://twitter.com/download/iphone\" r...   \n",
       "1254  <a href=\"http://twitter.com/download/iphone\" r...   \n",
       "\n",
       "                                                   text  rating_numerator  \\\n",
       "433   The floofs have been released I repeat the flo...                84   \n",
       "516   Meet Sam. She smiles 24/7 &amp; secretly aspir...                24   \n",
       "695   This is Logan, the Chow who lived. He solemnly...                75   \n",
       "763   This is Sophie. She's a Jubilant Bush Pupper. ...                27   \n",
       "902   Why does this never happen at my front door......               165   \n",
       "979   This is Atticus. He's quite simply America af....              1776   \n",
       "1120  Say hello to this unbelievably well behaved sq...               204   \n",
       "1202  This is Bluebert. He just saw that both #Final...                50   \n",
       "1228  Happy Saturday here's 9 puppers on a bench. 99...                99   \n",
       "1254  Here's a brigade of puppers. All look very pre...                80   \n",
       "\n",
       "      rating_denominator      name doggo floofer  pupper puppo  \n",
       "433                   70      None  None    None    None  None  \n",
       "516                    7       Sam  None    None    None  None  \n",
       "695                   10     Logan  None    None    None  None  \n",
       "763                   10    Sophie  None    None  pupper  None  \n",
       "902                  150      None  None    None    None  None  \n",
       "979                   10   Atticus  None    None    None  None  \n",
       "1120                 170      this  None    None    None  None  \n",
       "1202                  50  Bluebert  None    None    None  None  \n",
       "1228                  90      None  None    None    None  None  \n",
       "1254                  80      None  None    None    None  None  "
      ]
     },
     "execution_count": 45,
     "metadata": {},
     "output_type": "execute_result"
    }
   ],
   "source": [
    "archive.query('rating_numerator > 15').head(10)"
   ]
  },
  {
   "cell_type": "markdown",
   "metadata": {},
   "source": [
    "There is something wrong here... when the numerator rating has a decimal, it picks only the last part.\n",
    "I will proceed to create a new `numerator` column to compare the existing `rating_numerator` column with the new one, against my `text` column for insights."
   ]
  },
  {
   "cell_type": "markdown",
   "metadata": {},
   "source": [
    "## CODE"
   ]
  },
  {
   "cell_type": "code",
   "execution_count": 46,
   "metadata": {},
   "outputs": [],
   "source": [
    "# creating new column\n",
    "archive['numerator'] = archive['text'].str.extract('(\\d+\\.*\\d*\\/\\d+)', expand=False).str.split('/').str[0]"
   ]
  },
  {
   "cell_type": "code",
   "execution_count": 47,
   "metadata": {},
   "outputs": [
    {
     "data": {
      "text/html": [
       "<div>\n",
       "<style scoped>\n",
       "    .dataframe tbody tr th:only-of-type {\n",
       "        vertical-align: middle;\n",
       "    }\n",
       "\n",
       "    .dataframe tbody tr th {\n",
       "        vertical-align: top;\n",
       "    }\n",
       "\n",
       "    .dataframe thead th {\n",
       "        text-align: right;\n",
       "    }\n",
       "</style>\n",
       "<table border=\"1\" class=\"dataframe\">\n",
       "  <thead>\n",
       "    <tr style=\"text-align: right;\">\n",
       "      <th></th>\n",
       "      <th>tweet_id</th>\n",
       "      <th>timestamp</th>\n",
       "      <th>source</th>\n",
       "      <th>text</th>\n",
       "      <th>rating_numerator</th>\n",
       "      <th>rating_denominator</th>\n",
       "      <th>name</th>\n",
       "      <th>doggo</th>\n",
       "      <th>floofer</th>\n",
       "      <th>pupper</th>\n",
       "      <th>puppo</th>\n",
       "      <th>numerator</th>\n",
       "    </tr>\n",
       "  </thead>\n",
       "  <tbody>\n",
       "    <tr>\n",
       "      <th>516</th>\n",
       "      <td>810984652412424192</td>\n",
       "      <td>2016-12-19 23:06:23+00:00</td>\n",
       "      <td>&lt;a href=\"http://twitter.com/download/iphone\" r...</td>\n",
       "      <td>Meet Sam. She smiles 24/7 &amp;amp; secretly aspir...</td>\n",
       "      <td>24</td>\n",
       "      <td>7</td>\n",
       "      <td>Sam</td>\n",
       "      <td>None</td>\n",
       "      <td>None</td>\n",
       "      <td>None</td>\n",
       "      <td>None</td>\n",
       "      <td>24</td>\n",
       "    </tr>\n",
       "    <tr>\n",
       "      <th>1274</th>\n",
       "      <td>709198395643068416</td>\n",
       "      <td>2016-03-14 02:04:08+00:00</td>\n",
       "      <td>&lt;a href=\"http://twitter.com/download/iphone\" r...</td>\n",
       "      <td>From left to right:\\nCletus, Jerome, Alejandro...</td>\n",
       "      <td>45</td>\n",
       "      <td>50</td>\n",
       "      <td>None</td>\n",
       "      <td>None</td>\n",
       "      <td>None</td>\n",
       "      <td>None</td>\n",
       "      <td>None</td>\n",
       "      <td>45</td>\n",
       "    </tr>\n",
       "    <tr>\n",
       "      <th>1202</th>\n",
       "      <td>716439118184652801</td>\n",
       "      <td>2016-04-03 01:36:11+00:00</td>\n",
       "      <td>&lt;a href=\"http://twitter.com/download/iphone\" r...</td>\n",
       "      <td>This is Bluebert. He just saw that both #Final...</td>\n",
       "      <td>50</td>\n",
       "      <td>50</td>\n",
       "      <td>Bluebert</td>\n",
       "      <td>None</td>\n",
       "      <td>None</td>\n",
       "      <td>None</td>\n",
       "      <td>None</td>\n",
       "      <td>50</td>\n",
       "    </tr>\n",
       "    <tr>\n",
       "      <th>979</th>\n",
       "      <td>749981277374128128</td>\n",
       "      <td>2016-07-04 15:00:45+00:00</td>\n",
       "      <td>&lt;a href=\"https://about.twitter.com/products/tw...</td>\n",
       "      <td>This is Atticus. He's quite simply America af....</td>\n",
       "      <td>1776</td>\n",
       "      <td>10</td>\n",
       "      <td>Atticus</td>\n",
       "      <td>None</td>\n",
       "      <td>None</td>\n",
       "      <td>None</td>\n",
       "      <td>None</td>\n",
       "      <td>1776</td>\n",
       "    </tr>\n",
       "    <tr>\n",
       "      <th>1779</th>\n",
       "      <td>677716515794329600</td>\n",
       "      <td>2015-12-18 05:06:23+00:00</td>\n",
       "      <td>&lt;a href=\"http://twitter.com/download/iphone\" r...</td>\n",
       "      <td>IT'S PUPPERGEDDON. Total of 144/120 ...I think...</td>\n",
       "      <td>144</td>\n",
       "      <td>120</td>\n",
       "      <td>None</td>\n",
       "      <td>None</td>\n",
       "      <td>None</td>\n",
       "      <td>None</td>\n",
       "      <td>None</td>\n",
       "      <td>144</td>\n",
       "    </tr>\n",
       "    <tr>\n",
       "      <th>433</th>\n",
       "      <td>820690176645140481</td>\n",
       "      <td>2017-01-15 17:52:40+00:00</td>\n",
       "      <td>&lt;a href=\"http://twitter.com/download/iphone\" r...</td>\n",
       "      <td>The floofs have been released I repeat the flo...</td>\n",
       "      <td>84</td>\n",
       "      <td>70</td>\n",
       "      <td>None</td>\n",
       "      <td>None</td>\n",
       "      <td>None</td>\n",
       "      <td>None</td>\n",
       "      <td>None</td>\n",
       "      <td>84</td>\n",
       "    </tr>\n",
       "    <tr>\n",
       "      <th>695</th>\n",
       "      <td>786709082849828864</td>\n",
       "      <td>2016-10-13 23:23:56+00:00</td>\n",
       "      <td>&lt;a href=\"http://twitter.com/download/iphone\" r...</td>\n",
       "      <td>This is Logan, the Chow who lived. He solemnly...</td>\n",
       "      <td>75</td>\n",
       "      <td>10</td>\n",
       "      <td>Logan</td>\n",
       "      <td>None</td>\n",
       "      <td>None</td>\n",
       "      <td>None</td>\n",
       "      <td>None</td>\n",
       "      <td>9.75</td>\n",
       "    </tr>\n",
       "    <tr>\n",
       "      <th>2074</th>\n",
       "      <td>670842764863651840</td>\n",
       "      <td>2015-11-29 05:52:33+00:00</td>\n",
       "      <td>&lt;a href=\"http://twitter.com/download/iphone\" r...</td>\n",
       "      <td>After so many requests... here you go.\\n\\nGood...</td>\n",
       "      <td>420</td>\n",
       "      <td>10</td>\n",
       "      <td>None</td>\n",
       "      <td>None</td>\n",
       "      <td>None</td>\n",
       "      <td>None</td>\n",
       "      <td>None</td>\n",
       "      <td>420</td>\n",
       "    </tr>\n",
       "    <tr>\n",
       "      <th>1254</th>\n",
       "      <td>710658690886586372</td>\n",
       "      <td>2016-03-18 02:46:49+00:00</td>\n",
       "      <td>&lt;a href=\"http://twitter.com/download/iphone\" r...</td>\n",
       "      <td>Here's a brigade of puppers. All look very pre...</td>\n",
       "      <td>80</td>\n",
       "      <td>80</td>\n",
       "      <td>None</td>\n",
       "      <td>None</td>\n",
       "      <td>None</td>\n",
       "      <td>None</td>\n",
       "      <td>None</td>\n",
       "      <td>80</td>\n",
       "    </tr>\n",
       "    <tr>\n",
       "      <th>1120</th>\n",
       "      <td>731156023742988288</td>\n",
       "      <td>2016-05-13 16:15:54+00:00</td>\n",
       "      <td>&lt;a href=\"http://twitter.com/download/iphone\" r...</td>\n",
       "      <td>Say hello to this unbelievably well behaved sq...</td>\n",
       "      <td>204</td>\n",
       "      <td>170</td>\n",
       "      <td>this</td>\n",
       "      <td>None</td>\n",
       "      <td>None</td>\n",
       "      <td>None</td>\n",
       "      <td>None</td>\n",
       "      <td>204</td>\n",
       "    </tr>\n",
       "  </tbody>\n",
       "</table>\n",
       "</div>"
      ],
      "text/plain": [
       "                tweet_id                 timestamp  \\\n",
       "516   810984652412424192 2016-12-19 23:06:23+00:00   \n",
       "1274  709198395643068416 2016-03-14 02:04:08+00:00   \n",
       "1202  716439118184652801 2016-04-03 01:36:11+00:00   \n",
       "979   749981277374128128 2016-07-04 15:00:45+00:00   \n",
       "1779  677716515794329600 2015-12-18 05:06:23+00:00   \n",
       "433   820690176645140481 2017-01-15 17:52:40+00:00   \n",
       "695   786709082849828864 2016-10-13 23:23:56+00:00   \n",
       "2074  670842764863651840 2015-11-29 05:52:33+00:00   \n",
       "1254  710658690886586372 2016-03-18 02:46:49+00:00   \n",
       "1120  731156023742988288 2016-05-13 16:15:54+00:00   \n",
       "\n",
       "                                                 source  \\\n",
       "516   <a href=\"http://twitter.com/download/iphone\" r...   \n",
       "1274  <a href=\"http://twitter.com/download/iphone\" r...   \n",
       "1202  <a href=\"http://twitter.com/download/iphone\" r...   \n",
       "979   <a href=\"https://about.twitter.com/products/tw...   \n",
       "1779  <a href=\"http://twitter.com/download/iphone\" r...   \n",
       "433   <a href=\"http://twitter.com/download/iphone\" r...   \n",
       "695   <a href=\"http://twitter.com/download/iphone\" r...   \n",
       "2074  <a href=\"http://twitter.com/download/iphone\" r...   \n",
       "1254  <a href=\"http://twitter.com/download/iphone\" r...   \n",
       "1120  <a href=\"http://twitter.com/download/iphone\" r...   \n",
       "\n",
       "                                                   text  rating_numerator  \\\n",
       "516   Meet Sam. She smiles 24/7 &amp; secretly aspir...                24   \n",
       "1274  From left to right:\\nCletus, Jerome, Alejandro...                45   \n",
       "1202  This is Bluebert. He just saw that both #Final...                50   \n",
       "979   This is Atticus. He's quite simply America af....              1776   \n",
       "1779  IT'S PUPPERGEDDON. Total of 144/120 ...I think...               144   \n",
       "433   The floofs have been released I repeat the flo...                84   \n",
       "695   This is Logan, the Chow who lived. He solemnly...                75   \n",
       "2074  After so many requests... here you go.\\n\\nGood...               420   \n",
       "1254  Here's a brigade of puppers. All look very pre...                80   \n",
       "1120  Say hello to this unbelievably well behaved sq...               204   \n",
       "\n",
       "      rating_denominator      name doggo floofer pupper puppo numerator  \n",
       "516                    7       Sam  None    None   None  None        24  \n",
       "1274                  50      None  None    None   None  None        45  \n",
       "1202                  50  Bluebert  None    None   None  None        50  \n",
       "979                   10   Atticus  None    None   None  None      1776  \n",
       "1779                 120      None  None    None   None  None       144  \n",
       "433                   70      None  None    None   None  None        84  \n",
       "695                   10     Logan  None    None   None  None      9.75  \n",
       "2074                  10      None  None    None   None  None       420  \n",
       "1254                  80      None  None    None   None  None        80  \n",
       "1120                 170      this  None    None   None  None       204  "
      ]
     },
     "execution_count": 47,
     "metadata": {},
     "output_type": "execute_result"
    }
   ],
   "source": [
    "archive.query('rating_numerator > 15').sample(10)"
   ]
  },
  {
   "cell_type": "code",
   "execution_count": 48,
   "metadata": {},
   "outputs": [],
   "source": [
    "#move the column side by side the existing rating numerator for easy comparison\n",
    "# using pandas pop to remove the new column and store it in variable b\n",
    "# then inserting it back into the dataframe at column 6, just after the existing numerator\n",
    "\n",
    "b = archive.pop('numerator')\n",
    "archive.insert(5, 'new_rating_numerator', b)"
   ]
  },
  {
   "cell_type": "code",
   "execution_count": 49,
   "metadata": {},
   "outputs": [
    {
     "data": {
      "text/html": [
       "<div>\n",
       "<style scoped>\n",
       "    .dataframe tbody tr th:only-of-type {\n",
       "        vertical-align: middle;\n",
       "    }\n",
       "\n",
       "    .dataframe tbody tr th {\n",
       "        vertical-align: top;\n",
       "    }\n",
       "\n",
       "    .dataframe thead th {\n",
       "        text-align: right;\n",
       "    }\n",
       "</style>\n",
       "<table border=\"1\" class=\"dataframe\">\n",
       "  <thead>\n",
       "    <tr style=\"text-align: right;\">\n",
       "      <th></th>\n",
       "      <th>tweet_id</th>\n",
       "      <th>timestamp</th>\n",
       "      <th>source</th>\n",
       "      <th>text</th>\n",
       "      <th>rating_numerator</th>\n",
       "      <th>new_rating_numerator</th>\n",
       "      <th>rating_denominator</th>\n",
       "      <th>name</th>\n",
       "      <th>doggo</th>\n",
       "      <th>floofer</th>\n",
       "      <th>pupper</th>\n",
       "      <th>puppo</th>\n",
       "    </tr>\n",
       "  </thead>\n",
       "  <tbody>\n",
       "    <tr>\n",
       "      <th>433</th>\n",
       "      <td>820690176645140481</td>\n",
       "      <td>2017-01-15 17:52:40+00:00</td>\n",
       "      <td>&lt;a href=\"http://twitter.com/download/iphone\" r...</td>\n",
       "      <td>The floofs have been released I repeat the flo...</td>\n",
       "      <td>84</td>\n",
       "      <td>84</td>\n",
       "      <td>70</td>\n",
       "      <td>None</td>\n",
       "      <td>None</td>\n",
       "      <td>None</td>\n",
       "      <td>None</td>\n",
       "      <td>None</td>\n",
       "    </tr>\n",
       "    <tr>\n",
       "      <th>695</th>\n",
       "      <td>786709082849828864</td>\n",
       "      <td>2016-10-13 23:23:56+00:00</td>\n",
       "      <td>&lt;a href=\"http://twitter.com/download/iphone\" r...</td>\n",
       "      <td>This is Logan, the Chow who lived. He solemnly...</td>\n",
       "      <td>75</td>\n",
       "      <td>9.75</td>\n",
       "      <td>10</td>\n",
       "      <td>Logan</td>\n",
       "      <td>None</td>\n",
       "      <td>None</td>\n",
       "      <td>None</td>\n",
       "      <td>None</td>\n",
       "    </tr>\n",
       "    <tr>\n",
       "      <th>516</th>\n",
       "      <td>810984652412424192</td>\n",
       "      <td>2016-12-19 23:06:23+00:00</td>\n",
       "      <td>&lt;a href=\"http://twitter.com/download/iphone\" r...</td>\n",
       "      <td>Meet Sam. She smiles 24/7 &amp;amp; secretly aspir...</td>\n",
       "      <td>24</td>\n",
       "      <td>24</td>\n",
       "      <td>7</td>\n",
       "      <td>Sam</td>\n",
       "      <td>None</td>\n",
       "      <td>None</td>\n",
       "      <td>None</td>\n",
       "      <td>None</td>\n",
       "    </tr>\n",
       "    <tr>\n",
       "      <th>1712</th>\n",
       "      <td>680494726643068929</td>\n",
       "      <td>2015-12-25 21:06:00+00:00</td>\n",
       "      <td>&lt;a href=\"http://twitter.com/download/iphone\" r...</td>\n",
       "      <td>Here we have uncovered an entire battalion of ...</td>\n",
       "      <td>26</td>\n",
       "      <td>11.26</td>\n",
       "      <td>10</td>\n",
       "      <td>None</td>\n",
       "      <td>None</td>\n",
       "      <td>None</td>\n",
       "      <td>None</td>\n",
       "      <td>None</td>\n",
       "    </tr>\n",
       "    <tr>\n",
       "      <th>1843</th>\n",
       "      <td>675853064436391936</td>\n",
       "      <td>2015-12-13 01:41:41+00:00</td>\n",
       "      <td>&lt;a href=\"http://twitter.com/download/iphone\" r...</td>\n",
       "      <td>Here we have an entire platoon of puppers. Tot...</td>\n",
       "      <td>88</td>\n",
       "      <td>88</td>\n",
       "      <td>80</td>\n",
       "      <td>None</td>\n",
       "      <td>None</td>\n",
       "      <td>None</td>\n",
       "      <td>None</td>\n",
       "      <td>None</td>\n",
       "    </tr>\n",
       "    <tr>\n",
       "      <th>763</th>\n",
       "      <td>778027034220126208</td>\n",
       "      <td>2016-09-20 00:24:34+00:00</td>\n",
       "      <td>&lt;a href=\"http://twitter.com/download/iphone\" r...</td>\n",
       "      <td>This is Sophie. She's a Jubilant Bush Pupper. ...</td>\n",
       "      <td>27</td>\n",
       "      <td>11.27</td>\n",
       "      <td>10</td>\n",
       "      <td>Sophie</td>\n",
       "      <td>None</td>\n",
       "      <td>None</td>\n",
       "      <td>pupper</td>\n",
       "      <td>None</td>\n",
       "    </tr>\n",
       "    <tr>\n",
       "      <th>1254</th>\n",
       "      <td>710658690886586372</td>\n",
       "      <td>2016-03-18 02:46:49+00:00</td>\n",
       "      <td>&lt;a href=\"http://twitter.com/download/iphone\" r...</td>\n",
       "      <td>Here's a brigade of puppers. All look very pre...</td>\n",
       "      <td>80</td>\n",
       "      <td>80</td>\n",
       "      <td>80</td>\n",
       "      <td>None</td>\n",
       "      <td>None</td>\n",
       "      <td>None</td>\n",
       "      <td>None</td>\n",
       "      <td>None</td>\n",
       "    </tr>\n",
       "    <tr>\n",
       "      <th>1120</th>\n",
       "      <td>731156023742988288</td>\n",
       "      <td>2016-05-13 16:15:54+00:00</td>\n",
       "      <td>&lt;a href=\"http://twitter.com/download/iphone\" r...</td>\n",
       "      <td>Say hello to this unbelievably well behaved sq...</td>\n",
       "      <td>204</td>\n",
       "      <td>204</td>\n",
       "      <td>170</td>\n",
       "      <td>this</td>\n",
       "      <td>None</td>\n",
       "      <td>None</td>\n",
       "      <td>None</td>\n",
       "      <td>None</td>\n",
       "    </tr>\n",
       "    <tr>\n",
       "      <th>2074</th>\n",
       "      <td>670842764863651840</td>\n",
       "      <td>2015-11-29 05:52:33+00:00</td>\n",
       "      <td>&lt;a href=\"http://twitter.com/download/iphone\" r...</td>\n",
       "      <td>After so many requests... here you go.\\n\\nGood...</td>\n",
       "      <td>420</td>\n",
       "      <td>420</td>\n",
       "      <td>10</td>\n",
       "      <td>None</td>\n",
       "      <td>None</td>\n",
       "      <td>None</td>\n",
       "      <td>None</td>\n",
       "      <td>None</td>\n",
       "    </tr>\n",
       "    <tr>\n",
       "      <th>1635</th>\n",
       "      <td>684222868335505415</td>\n",
       "      <td>2016-01-05 04:00:18+00:00</td>\n",
       "      <td>&lt;a href=\"http://twitter.com/download/iphone\" r...</td>\n",
       "      <td>Someone help the girl is being mugged. Several...</td>\n",
       "      <td>121</td>\n",
       "      <td>121</td>\n",
       "      <td>110</td>\n",
       "      <td>None</td>\n",
       "      <td>None</td>\n",
       "      <td>None</td>\n",
       "      <td>None</td>\n",
       "      <td>None</td>\n",
       "    </tr>\n",
       "  </tbody>\n",
       "</table>\n",
       "</div>"
      ],
      "text/plain": [
       "                tweet_id                 timestamp  \\\n",
       "433   820690176645140481 2017-01-15 17:52:40+00:00   \n",
       "695   786709082849828864 2016-10-13 23:23:56+00:00   \n",
       "516   810984652412424192 2016-12-19 23:06:23+00:00   \n",
       "1712  680494726643068929 2015-12-25 21:06:00+00:00   \n",
       "1843  675853064436391936 2015-12-13 01:41:41+00:00   \n",
       "763   778027034220126208 2016-09-20 00:24:34+00:00   \n",
       "1254  710658690886586372 2016-03-18 02:46:49+00:00   \n",
       "1120  731156023742988288 2016-05-13 16:15:54+00:00   \n",
       "2074  670842764863651840 2015-11-29 05:52:33+00:00   \n",
       "1635  684222868335505415 2016-01-05 04:00:18+00:00   \n",
       "\n",
       "                                                 source  \\\n",
       "433   <a href=\"http://twitter.com/download/iphone\" r...   \n",
       "695   <a href=\"http://twitter.com/download/iphone\" r...   \n",
       "516   <a href=\"http://twitter.com/download/iphone\" r...   \n",
       "1712  <a href=\"http://twitter.com/download/iphone\" r...   \n",
       "1843  <a href=\"http://twitter.com/download/iphone\" r...   \n",
       "763   <a href=\"http://twitter.com/download/iphone\" r...   \n",
       "1254  <a href=\"http://twitter.com/download/iphone\" r...   \n",
       "1120  <a href=\"http://twitter.com/download/iphone\" r...   \n",
       "2074  <a href=\"http://twitter.com/download/iphone\" r...   \n",
       "1635  <a href=\"http://twitter.com/download/iphone\" r...   \n",
       "\n",
       "                                                   text  rating_numerator  \\\n",
       "433   The floofs have been released I repeat the flo...                84   \n",
       "695   This is Logan, the Chow who lived. He solemnly...                75   \n",
       "516   Meet Sam. She smiles 24/7 &amp; secretly aspir...                24   \n",
       "1712  Here we have uncovered an entire battalion of ...                26   \n",
       "1843  Here we have an entire platoon of puppers. Tot...                88   \n",
       "763   This is Sophie. She's a Jubilant Bush Pupper. ...                27   \n",
       "1254  Here's a brigade of puppers. All look very pre...                80   \n",
       "1120  Say hello to this unbelievably well behaved sq...               204   \n",
       "2074  After so many requests... here you go.\\n\\nGood...               420   \n",
       "1635  Someone help the girl is being mugged. Several...               121   \n",
       "\n",
       "     new_rating_numerator  rating_denominator    name doggo floofer  pupper  \\\n",
       "433                    84                  70    None  None    None    None   \n",
       "695                  9.75                  10   Logan  None    None    None   \n",
       "516                    24                   7     Sam  None    None    None   \n",
       "1712                11.26                  10    None  None    None    None   \n",
       "1843                   88                  80    None  None    None    None   \n",
       "763                 11.27                  10  Sophie  None    None  pupper   \n",
       "1254                   80                  80    None  None    None    None   \n",
       "1120                  204                 170    this  None    None    None   \n",
       "2074                  420                  10    None  None    None    None   \n",
       "1635                  121                 110    None  None    None    None   \n",
       "\n",
       "     puppo  \n",
       "433   None  \n",
       "695   None  \n",
       "516   None  \n",
       "1712  None  \n",
       "1843  None  \n",
       "763   None  \n",
       "1254  None  \n",
       "1120  None  \n",
       "2074  None  \n",
       "1635  None  "
      ]
     },
     "execution_count": 49,
     "metadata": {},
     "output_type": "execute_result"
    }
   ],
   "source": [
    "archive.query('rating_numerator > 15').sample(10)"
   ]
  },
  {
   "cell_type": "markdown",
   "metadata": {},
   "source": [
    "Evidently, we can clearly see that some ratings were decimals and this can be seen above."
   ]
  },
  {
   "cell_type": "code",
   "execution_count": 50,
   "metadata": {},
   "outputs": [
    {
     "name": "stdout",
     "output_type": "stream",
     "text": [
      "<class 'pandas.core.frame.DataFrame'>\n",
      "Int64Index: 2097 entries, 0 to 2355\n",
      "Data columns (total 12 columns):\n",
      " #   Column                Non-Null Count  Dtype              \n",
      "---  ------                --------------  -----              \n",
      " 0   tweet_id              2097 non-null   object             \n",
      " 1   timestamp             2097 non-null   datetime64[ns, UTC]\n",
      " 2   source                2097 non-null   object             \n",
      " 3   text                  2097 non-null   object             \n",
      " 4   rating_numerator      2097 non-null   int64              \n",
      " 5   new_rating_numerator  2097 non-null   object             \n",
      " 6   rating_denominator    2097 non-null   int64              \n",
      " 7   name                  2097 non-null   object             \n",
      " 8   doggo                 2097 non-null   object             \n",
      " 9   floofer               2097 non-null   object             \n",
      " 10  pupper                2097 non-null   object             \n",
      " 11  puppo                 2097 non-null   object             \n",
      "dtypes: datetime64[ns, UTC](1), int64(2), object(9)\n",
      "memory usage: 213.0+ KB\n"
     ]
    }
   ],
   "source": [
    "archive.info()"
   ]
  },
  {
   "cell_type": "markdown",
   "metadata": {},
   "source": [
    "now i can update my rating_numerator and drop the old one"
   ]
  },
  {
   "cell_type": "code",
   "execution_count": 51,
   "metadata": {},
   "outputs": [],
   "source": [
    "archive['rating_numerator'] = archive['new_rating_numerator']\n",
    "archive.drop('new_rating_numerator',axis=1, inplace=True )"
   ]
  },
  {
   "cell_type": "markdown",
   "metadata": {},
   "source": [
    "### TEST"
   ]
  },
  {
   "cell_type": "code",
   "execution_count": 52,
   "metadata": {},
   "outputs": [
    {
     "data": {
      "text/html": [
       "<div>\n",
       "<style scoped>\n",
       "    .dataframe tbody tr th:only-of-type {\n",
       "        vertical-align: middle;\n",
       "    }\n",
       "\n",
       "    .dataframe tbody tr th {\n",
       "        vertical-align: top;\n",
       "    }\n",
       "\n",
       "    .dataframe thead th {\n",
       "        text-align: right;\n",
       "    }\n",
       "</style>\n",
       "<table border=\"1\" class=\"dataframe\">\n",
       "  <thead>\n",
       "    <tr style=\"text-align: right;\">\n",
       "      <th></th>\n",
       "      <th>tweet_id</th>\n",
       "      <th>timestamp</th>\n",
       "      <th>source</th>\n",
       "      <th>text</th>\n",
       "      <th>rating_numerator</th>\n",
       "      <th>rating_denominator</th>\n",
       "      <th>name</th>\n",
       "      <th>doggo</th>\n",
       "      <th>floofer</th>\n",
       "      <th>pupper</th>\n",
       "      <th>puppo</th>\n",
       "    </tr>\n",
       "  </thead>\n",
       "  <tbody>\n",
       "    <tr>\n",
       "      <th>679</th>\n",
       "      <td>789137962068021249</td>\n",
       "      <td>2016-10-20 16:15:26+00:00</td>\n",
       "      <td>&lt;a href=\"http://twitter.com/download/iphone\" r...</td>\n",
       "      <td>This is Bo. He's a West Congolese Bugaboop Snu...</td>\n",
       "      <td>12</td>\n",
       "      <td>10</td>\n",
       "      <td>Bo</td>\n",
       "      <td>None</td>\n",
       "      <td>None</td>\n",
       "      <td>None</td>\n",
       "      <td>None</td>\n",
       "    </tr>\n",
       "    <tr>\n",
       "      <th>1121</th>\n",
       "      <td>730924654643314689</td>\n",
       "      <td>2016-05-13 00:56:32+00:00</td>\n",
       "      <td>&lt;a href=\"http://twitter.com/download/iphone\" r...</td>\n",
       "      <td>We only rate dogs. Pls stop sending non-canine...</td>\n",
       "      <td>9</td>\n",
       "      <td>10</td>\n",
       "      <td>unacceptable</td>\n",
       "      <td>None</td>\n",
       "      <td>None</td>\n",
       "      <td>None</td>\n",
       "      <td>None</td>\n",
       "    </tr>\n",
       "    <tr>\n",
       "      <th>517</th>\n",
       "      <td>810896069567610880</td>\n",
       "      <td>2016-12-19 17:14:23+00:00</td>\n",
       "      <td>&lt;a href=\"http://twitter.com/download/iphone\" r...</td>\n",
       "      <td>This is Hunter. He just found out he needs bra...</td>\n",
       "      <td>11</td>\n",
       "      <td>10</td>\n",
       "      <td>Hunter</td>\n",
       "      <td>None</td>\n",
       "      <td>None</td>\n",
       "      <td>None</td>\n",
       "      <td>None</td>\n",
       "    </tr>\n",
       "    <tr>\n",
       "      <th>1746</th>\n",
       "      <td>679132435750195208</td>\n",
       "      <td>2015-12-22 02:52:45+00:00</td>\n",
       "      <td>&lt;a href=\"http://twitter.com/download/iphone\" r...</td>\n",
       "      <td>This is Louis. He's a river dancer. His friend...</td>\n",
       "      <td>10</td>\n",
       "      <td>10</td>\n",
       "      <td>Louis</td>\n",
       "      <td>None</td>\n",
       "      <td>None</td>\n",
       "      <td>None</td>\n",
       "      <td>None</td>\n",
       "    </tr>\n",
       "    <tr>\n",
       "      <th>1674</th>\n",
       "      <td>682259524040966145</td>\n",
       "      <td>2015-12-30 17:58:40+00:00</td>\n",
       "      <td>&lt;a href=\"http://twitter.com/download/iphone\" r...</td>\n",
       "      <td>Meet Jax. He's an Iglesias Hufflepoof. Quite t...</td>\n",
       "      <td>9</td>\n",
       "      <td>10</td>\n",
       "      <td>Jax</td>\n",
       "      <td>None</td>\n",
       "      <td>None</td>\n",
       "      <td>None</td>\n",
       "      <td>None</td>\n",
       "    </tr>\n",
       "    <tr>\n",
       "      <th>652</th>\n",
       "      <td>792394556390137856</td>\n",
       "      <td>2016-10-29 15:55:58+00:00</td>\n",
       "      <td>&lt;a href=\"http://twitter.com/download/iphone\" r...</td>\n",
       "      <td>Meet BeBe. She rocks the messy bun of your dre...</td>\n",
       "      <td>12</td>\n",
       "      <td>10</td>\n",
       "      <td>BeBe</td>\n",
       "      <td>None</td>\n",
       "      <td>None</td>\n",
       "      <td>None</td>\n",
       "      <td>None</td>\n",
       "    </tr>\n",
       "    <tr>\n",
       "      <th>117</th>\n",
       "      <td>870063196459192321</td>\n",
       "      <td>2017-05-31 23:43:25+00:00</td>\n",
       "      <td>&lt;a href=\"http://twitter.com/download/iphone\" r...</td>\n",
       "      <td>Meet Clifford. He's quite large. Also red. Goo...</td>\n",
       "      <td>14</td>\n",
       "      <td>10</td>\n",
       "      <td>Clifford</td>\n",
       "      <td>None</td>\n",
       "      <td>None</td>\n",
       "      <td>None</td>\n",
       "      <td>None</td>\n",
       "    </tr>\n",
       "    <tr>\n",
       "      <th>1493</th>\n",
       "      <td>692752401762250755</td>\n",
       "      <td>2016-01-28 16:53:37+00:00</td>\n",
       "      <td>&lt;a href=\"http://twitter.com/download/iphone\" r...</td>\n",
       "      <td>\"Hello yes could I get one pupper to go please...</td>\n",
       "      <td>13</td>\n",
       "      <td>10</td>\n",
       "      <td>None</td>\n",
       "      <td>None</td>\n",
       "      <td>None</td>\n",
       "      <td>pupper</td>\n",
       "      <td>None</td>\n",
       "    </tr>\n",
       "    <tr>\n",
       "      <th>2343</th>\n",
       "      <td>666073100786774016</td>\n",
       "      <td>2015-11-16 01:59:36+00:00</td>\n",
       "      <td>&lt;a href=\"http://twitter.com/download/iphone\" r...</td>\n",
       "      <td>Let's hope this flight isn't Malaysian (lol). ...</td>\n",
       "      <td>10</td>\n",
       "      <td>10</td>\n",
       "      <td>None</td>\n",
       "      <td>None</td>\n",
       "      <td>None</td>\n",
       "      <td>None</td>\n",
       "      <td>None</td>\n",
       "    </tr>\n",
       "    <tr>\n",
       "      <th>1937</th>\n",
       "      <td>673919437611909120</td>\n",
       "      <td>2015-12-07 17:38:09+00:00</td>\n",
       "      <td>&lt;a href=\"http://twitter.com/download/iphone\" r...</td>\n",
       "      <td>This is Obie. He is on guard watching for evil...</td>\n",
       "      <td>11</td>\n",
       "      <td>10</td>\n",
       "      <td>Obie</td>\n",
       "      <td>None</td>\n",
       "      <td>None</td>\n",
       "      <td>pupper</td>\n",
       "      <td>None</td>\n",
       "    </tr>\n",
       "  </tbody>\n",
       "</table>\n",
       "</div>"
      ],
      "text/plain": [
       "                tweet_id                 timestamp  \\\n",
       "679   789137962068021249 2016-10-20 16:15:26+00:00   \n",
       "1121  730924654643314689 2016-05-13 00:56:32+00:00   \n",
       "517   810896069567610880 2016-12-19 17:14:23+00:00   \n",
       "1746  679132435750195208 2015-12-22 02:52:45+00:00   \n",
       "1674  682259524040966145 2015-12-30 17:58:40+00:00   \n",
       "652   792394556390137856 2016-10-29 15:55:58+00:00   \n",
       "117   870063196459192321 2017-05-31 23:43:25+00:00   \n",
       "1493  692752401762250755 2016-01-28 16:53:37+00:00   \n",
       "2343  666073100786774016 2015-11-16 01:59:36+00:00   \n",
       "1937  673919437611909120 2015-12-07 17:38:09+00:00   \n",
       "\n",
       "                                                 source  \\\n",
       "679   <a href=\"http://twitter.com/download/iphone\" r...   \n",
       "1121  <a href=\"http://twitter.com/download/iphone\" r...   \n",
       "517   <a href=\"http://twitter.com/download/iphone\" r...   \n",
       "1746  <a href=\"http://twitter.com/download/iphone\" r...   \n",
       "1674  <a href=\"http://twitter.com/download/iphone\" r...   \n",
       "652   <a href=\"http://twitter.com/download/iphone\" r...   \n",
       "117   <a href=\"http://twitter.com/download/iphone\" r...   \n",
       "1493  <a href=\"http://twitter.com/download/iphone\" r...   \n",
       "2343  <a href=\"http://twitter.com/download/iphone\" r...   \n",
       "1937  <a href=\"http://twitter.com/download/iphone\" r...   \n",
       "\n",
       "                                                   text rating_numerator  \\\n",
       "679   This is Bo. He's a West Congolese Bugaboop Snu...               12   \n",
       "1121  We only rate dogs. Pls stop sending non-canine...                9   \n",
       "517   This is Hunter. He just found out he needs bra...               11   \n",
       "1746  This is Louis. He's a river dancer. His friend...               10   \n",
       "1674  Meet Jax. He's an Iglesias Hufflepoof. Quite t...                9   \n",
       "652   Meet BeBe. She rocks the messy bun of your dre...               12   \n",
       "117   Meet Clifford. He's quite large. Also red. Goo...               14   \n",
       "1493  \"Hello yes could I get one pupper to go please...               13   \n",
       "2343  Let's hope this flight isn't Malaysian (lol). ...               10   \n",
       "1937  This is Obie. He is on guard watching for evil...               11   \n",
       "\n",
       "      rating_denominator          name doggo floofer  pupper puppo  \n",
       "679                   10            Bo  None    None    None  None  \n",
       "1121                  10  unacceptable  None    None    None  None  \n",
       "517                   10        Hunter  None    None    None  None  \n",
       "1746                  10         Louis  None    None    None  None  \n",
       "1674                  10           Jax  None    None    None  None  \n",
       "652                   10          BeBe  None    None    None  None  \n",
       "117                   10      Clifford  None    None    None  None  \n",
       "1493                  10          None  None    None  pupper  None  \n",
       "2343                  10          None  None    None    None  None  \n",
       "1937                  10          Obie  None    None  pupper  None  "
      ]
     },
     "execution_count": 52,
     "metadata": {},
     "output_type": "execute_result"
    }
   ],
   "source": [
    "archive.sample(10)"
   ]
  },
  {
   "cell_type": "markdown",
   "metadata": {},
   "source": [
    "### DEFINE\n",
    "\n",
    "Fix the inconsistensies and wrong values in the name column. This can be seen in the text column where the names were gotten."
   ]
  },
  {
   "cell_type": "markdown",
   "metadata": {},
   "source": [
    "### CODE"
   ]
  },
  {
   "cell_type": "code",
   "execution_count": 53,
   "metadata": {},
   "outputs": [
    {
     "data": {
      "text/plain": [
       "None          603\n",
       "a              55\n",
       "Lucy           11\n",
       "Charlie        11\n",
       "Oliver         10\n",
       "             ... \n",
       "Lenox           1\n",
       "Harvey          1\n",
       "Blanket         1\n",
       "Burt            1\n",
       "Christoper      1\n",
       "Name: name, Length: 955, dtype: int64"
      ]
     },
     "execution_count": 53,
     "metadata": {},
     "output_type": "execute_result"
    }
   ],
   "source": [
    "archive['name'].value_counts()"
   ]
  },
  {
   "cell_type": "code",
   "execution_count": 54,
   "metadata": {},
   "outputs": [
    {
     "name": "stdout",
     "output_type": "stream",
     "text": [
      "lower names =  ['such', 'a', 'quite', 'quite', 'not', 'one', 'incredibly', 'a', 'a', 'very', 'my', 'one', 'not', 'his', 'one', 'a', 'a', 'a', 'an', 'very', 'actually', 'a', 'just', 'getting', 'mad', 'very', 'this', 'unacceptable', 'all', 'a', 'old', 'a', 'infuriating', 'a', 'a', 'a', 'an', 'a', 'a', 'very', 'getting', 'just', 'a', 'the', 'the', 'actually', 'by', 'a', 'officially', 'a', 'the', 'the', 'a', 'a', 'a', 'a', 'life', 'a', 'one', 'a', 'a', 'a', 'light', 'just', 'space', 'a', 'the', 'a', 'a', 'a', 'a', 'a', 'a', 'a', 'a', 'a', 'an', 'a', 'the', 'a', 'a', 'a', 'a', 'a', 'a', 'a', 'a', 'a', 'a', 'a', 'quite', 'a', 'an', 'a', 'an', 'the', 'the', 'a', 'a', 'an', 'a', 'a', 'a', 'a']\n",
      "upper names =  ['O' 'JD']\n",
      "actual names =  ['Phineas', 'Tilly', 'Archie', 'Darla', 'Franklin', 'None', 'Jax', 'None', 'Zoey', 'Cassie', 'Koda', 'Bruno', 'None', 'Ted', 'Stuart', 'Oliver', 'Jim', 'Zeke', 'Ralphus', 'Gerald', 'Jeffrey', 'Canela', 'None', 'None', 'Maya', 'Mingus', 'Derek', 'Roscoe', 'Waffles', 'Jimbo', 'Maisey', 'None', 'None', 'Earl', 'Lola', 'Kevin', 'None', 'None', 'Yogi', 'Noah', 'Bella', 'Grizzwald', 'None', 'Rusty', 'Gus', 'Stanley', 'Alfy', 'Koko', 'Rey', 'Gary', 'Elliot', 'Louis', 'None', 'Bella', 'Jesse', 'None', 'Romeo', 'Bailey', 'Duddles', 'Jack', 'Steven', 'Beau', 'Snoopy', 'None', 'Shadow', 'Emmy', 'Aja', 'Penny', 'Dante', 'Nelly', 'Ginger', 'None', 'Benedict', 'Venti', 'Goose', 'Nugget', 'None', 'None', 'Cash', 'Jed', 'None', 'Sebastian', 'None', 'Sierra', 'None', 'None', 'Monkey', 'None', 'Harry', 'Kody', 'Lassie', 'Rover', 'Napolean', 'None', 'Boomer', 'None', 'Cody', 'Zoey', 'Rumble', 'Clifford', 'Dewey', 'Stanley', 'Scout', 'Gizmo', 'Walter', 'None', 'Cooper', 'None', 'Harold', 'Shikha', 'None', 'None', 'Lili', 'Jamesy', 'Coco', 'Boomer', 'Sammy', 'Nelly', 'None', 'Meatball', 'Paisley', 'Albus', 'Neptune', 'Belle', 'Quinn', 'Zooey', 'Dave', 'Jersey', 'None', 'Hobbes', 'None', 'Burt', 'Lorenzo', 'Carl', 'Jordy', 'None', 'Milky', 'Trooper', 'None', 'None', 'None', 'Sophie', 'Wyatt', 'Rosie', 'Thor', 'None', 'Oscar', 'Zeke', 'Callie', 'Cermet', 'None', 'None', 'None', 'Marlee', 'Arya', 'Einstein', 'None', 'None', 'Alice', 'None', 'Rumpole', 'Benny', 'Aspen', 'Jarod', 'Wiggles', 'General', 'Sailor', 'None', 'Iggy', 'Snoop', 'Kyle', 'Leo', 'Riley', 'Boomer', 'None', 'Noosh', 'None', 'Kevin', 'None', 'Odin', 'Jerry', 'Georgie', 'Rontu', 'Cannon', 'Furzey', 'Daisy', 'None', 'Tuck', 'Barney', 'None', 'Vixen', 'None', 'Jarvis', 'None', 'None', 'Mimosa', 'Pickles', 'Brady', 'Luna', 'Charlie', 'Margo', 'None', 'Sadie', 'Hank', 'Tycho', 'Charlie', 'Indie', 'Winnie', 'George', 'Bentley', 'Penny', 'None', 'None', 'Max', 'Dawn', 'None', 'Maddie', 'None', 'Monty', 'Sojourner', 'Winston', 'Odie', 'None', 'Arlo', 'Walter', 'Stanley', 'Daisy', 'None', 'Waffles', 'Vincent', 'Lucy', 'Clark', 'Mookie', 'Meera', 'Oliver', 'Ava', 'Lucy', 'None', 'Eli', 'Ash', 'Lola', 'None', 'None', 'Tucker', 'Tobi', 'None', 'Chester', 'Wilson', 'Sunshine', 'None', 'Lipton', 'Bentley', 'Charlie', 'Bronte', 'Poppy', 'Gidget', 'Rhino', 'Willow', 'None', 'Orion', 'Eevee', 'Charlie', 'Smiley', 'Miguel', 'Emanuel', 'Kuyu', 'Daisy', 'None', 'Dutch', 'Pete', 'None', 'Scooter', 'Tucker', 'Reggie', 'Lilly', 'Samson', 'Mia', 'Leo', 'None', 'Astrid', 'Malcolm', 'Dexter', 'Alfie', 'Fiona', 'Mutt', 'Bear', 'Doobert', 'Beebop', 'Alexander', 'None', 'Sailer', 'Brutus', 'Kona', 'Boots', 'Tucker', 'Ralphie', 'Charlie', 'Loki', 'Cupid', 'Pawnd', 'Pilot', 'None', 'None', 'Ike', 'Mo', 'Toby', 'None', 'Sweet', 'Pablo', 'Scooter', 'Wilson', 'None', 'Nala', 'None', 'Cash', 'Winston', 'Crawford', 'Wyatt', 'Albus', 'None', 'Hobbes', 'None', 'Paisley', 'Gabe', 'None', 'Jimison', 'Duchess', 'Harlso', 'Sundance', 'Luca', 'None', 'Flash', 'Sunny', 'None', 'None', 'None', 'Oliver', 'None', 'Howie', 'Jazzy', 'Anna', 'None', 'Finn', 'Sunny', 'Bo', 'Wafer', 'Bear', 'Tom', 'Florence', 'Autumn', 'None', 'Buddy', 'Dido', 'Eugene', 'Ken', 'Strudel', 'Tebow', 'None', 'Chloe', 'Timber', 'Binky', 'Moose', 'Dudley', 'Comet', 'Jack', 'None', 'Akumi', 'Titan', 'None', 'Cooper', 'Olivia', 'Alf', 'Oshie', 'Chubbs', 'Gary', 'Sky', 'Atlas', 'None', 'None', 'Eleanor', 'Layla', 'None', 'None', 'Toby', 'Rocky', 'Baron', 'Tyr', 'Bauer', 'Swagger', 'Brandi', 'None', 'Mary', 'Moe', 'Ted', 'Halo', 'Augie', 'Craig', 'Sam', 'Hunter', 'Pavlov', 'Phil', 'Gus', 'None', 'None', 'Kyro', 'Wallace', 'Ito', 'None', 'Koda', 'Seamus', 'None', 'Cooper', 'Ollie', 'Stephan', 'Lennon', 'None', 'None', 'Waffles', 'Major', 'Duke', 'Zeke', 'Sansa', 'Shooter', 'Django', 'None', 'Bo', 'Diogi', 'None', 'Sonny', 'Winston', 'Marley', 'Bailey', 'Winnie', 'Severus', 'Loki', 'Ronnie', 'Wallace', 'None', 'Milo', 'Bones', 'Mauve', 'Chef', 'None', 'Doc', 'Peaches', 'None', 'Sobe', 'Longfellow', 'Jeffrey', 'Mister', 'Iroh', 'Shadow', 'Cooper', 'None', 'Cassie', 'Pancake', 'Tyr', 'Romeo', 'None', 'Snicku', 'Ruby', 'None', 'None', 'Yogi', 'Daisy', 'None', 'Brody', 'Bailey', 'Mack', 'Nimbus', 'Laika', 'Maximus', 'Clark', 'Dobby', 'Fiona', 'Moreton', 'Dave', 'None', 'Tucker', 'Juno', 'Maude', 'Lily', 'Newt', 'Benji', 'Nida', 'None', 'Robin', 'Bailey', 'Monster', 'Remus', 'None', 'None', 'Levi', 'Mabel', 'Misty', 'Betty', 'Mosby', 'Duke', 'Maggie', 'Bruce', 'Happy', 'Ralphy', 'Eli', 'Brownie', 'Rizzy', 'None', 'Stella', 'Bo', 'Lucy', 'Butter', 'Dexter', 'None', 'Leo', 'None', 'Frank', 'Tonks', 'Moose', 'Lincoln', 'Rory', 'Logan', 'None', 'Dale', 'Rizzo', 'Arnie', 'Mattie', 'Lucy', 'Rusty', 'Pinot', 'Dallas', 'None', 'Doc', 'Hero', 'Rusty', 'Frankie', 'Stormy', 'Reginald', 'Balto', 'Riley', 'Mairi', 'Loomis', 'Finn', 'Godi', 'Dave', 'Earl', 'Cali', 'Deacon', 'Penny', 'Timmy', 'Sampson', 'Chipson', 'None', 'Combo', 'None', 'None', 'Oakley', 'None', 'None', 'Dash', 'Koda', 'Hercules', 'None', 'Bear', 'None', 'None', 'Scout', 'None', 'Reggie', 'None', 'Jay', 'None', 'Mya', 'Strider', 'Penny', 'None', 'Nala', 'Stanley', 'None', 'Sophie', 'Wesley', 'None', 'Derek', 'Jeffrey', 'Solomon', 'Huck', 'None', 'O', 'Sampson', 'None', 'Blue', 'Anakin', 'None', 'Finley', 'Maximus', 'Tucker', 'Finley', 'Sprinkles', 'None', 'Winnie', 'Heinrich', 'Loki', 'Shakespeare', 'Chelsea', 'Bungalo', 'Chip', 'Grey', 'None', 'Roosevelt', 'Willem', 'None', 'Jack', 'Finn', 'Penny', 'None', 'Davey', 'Dakota', 'Fizz', 'Dixie', 'Charlie', 'None', 'Winston', 'Sebastian', 'Al', 'Jackson', 'Carbon', 'Klein', 'Titan', 'Kirby', 'Jesse', 'Lou', 'Oakley', 'Chevy', 'Gerald', 'Tito', 'Philbert', 'Louie', 'None', 'Rupert', 'Rufus', 'Brudge', 'Shadoe', 'Oscar', 'Juno', 'Angel', 'Brat', 'Tove', 'Louie', 'Gromit', 'Aubie', 'Kota', 'Alfie', 'Clark', 'Belle', 'Leela', 'Glenn', 'Buddy', 'Scout', 'None', 'Shelby', 'None', 'None', 'Sephie', 'Bruce', 'Bonaparte', 'Albert', 'Bo', 'Wishes', 'Rose', 'Theo', 'Atlas', 'None', 'Rocco', 'Fido', 'Sadie', 'None', 'None', 'Kirby', 'Maggie', 'Emma', 'Oakley', 'None', 'Luna', 'Toby', 'Spencer', 'Lilli', 'None', 'Boston', 'Brandonald', 'None', 'Odie', 'Corey', 'None', 'None', 'Leonard', 'Beckham', 'Cooper', 'None', 'None', 'None', 'Devón', 'Oliver', 'Jax', 'Gert', 'None', 'None', 'None', 'None', 'None', 'Watson', 'Winnie', 'Keith', 'Milo', 'Dex', 'None', 'Charlie', 'None', 'None', 'Scout', 'Hank', 'Ace', 'None', 'Tayzie', 'Carl', 'Grizzie', 'None', 'None', 'None', 'None', 'None', 'Brody', 'Lola', 'Ruby', 'Tucker', 'Fred', 'Toby', 'None', 'Max', 'None', 'Gilbert', 'None', 'Cooper', 'Milo', 'Meyer', 'Malcolm', 'Arnie', 'Zoe', 'None', 'Stewie', 'Calvin', 'Lilah', 'Spanky', 'None', 'Jameson', 'Beau', 'Jax', 'Piper', 'Bo', 'Atticus', 'Lucy', 'Finn', 'None', 'George', 'Blu', 'Boomer', 'Winston', 'Dietrich', 'Divine', 'None', 'Tripp', 'Cora', 'None', 'None', 'Duke', 'None', 'None', 'None', 'None', 'Huxley', 'Keurig', 'Bookstore', 'None', 'None', 'None', 'Linus', 'Atticus', 'Clark', 'None', 'None', 'Maddie', 'Abby', 'None', 'Shiloh', 'Gustav', 'Arlen', 'Gus', 'Percy', 'Lenox', 'Sugar', 'Jeffrey', 'Oliver', 'Abby', 'Indie', 'Harvey', 'Blanket', 'None', 'Geno', 'None', 'Stark', 'Harold', 'Bentley', 'Beya', 'Kilo', 'Kayla', 'None', 'Maxaroni', 'None', 'Bell', 'Phil', 'Doug', 'Edmund', 'None', 'Aqua', 'Tucker', 'Theodore', 'Ted', 'Leo', 'None', 'Chip', 'Baloo', 'None', 'None', 'Chase', 'Nollie', 'Rorie', 'Simba', 'None', 'Benji', 'None', 'Kyle', 'None', 'Charles', 'None', 'Bayley', 'None', 'None', 'Axel', 'Storkson', 'Remy', 'Bella', 'None', 'None', 'Lily', 'None', 'Chadrick', 'Rory', 'None', 'Maxaroni', 'None', 'Dakota', 'None', 'Kellogg', 'Buckley', 'Jax', 'None', 'Livvie', 'None', 'Terry', 'Moose', 'None', 'Hermione', 'None', 'Ralpher', 'Aldrick', 'None', 'Kyle', 'Larry', 'Solomon', 'Rooney', 'Crystal', 'Ziva', 'Charles', 'Ollie', 'Stefan', 'Pupcasso', 'None', 'Puff', 'None', 'Flurpson', 'Coleman', 'Wallace', 'Enchilada', 'Raymond', 'Rueben', 'Cilantro', 'None', 'None', 'None', 'None', 'Karll', 'None', 'Sprout', 'Blitz', 'Bloop', 'None', 'Colby', 'Lillie', 'Lola', 'None', 'Fred', 'None', 'Ashleigh', 'Kreggory', 'Sarge', 'Luther', 'Sugar', 'Reginald', 'Ivar', 'Jangle', 'None', 'Schnitzel', 'Panda', 'Oliver', 'Archie', 'Berkeley', 'None', 'Ralphé', 'Derek', 'Charleson', 'Neptune', 'None', 'Clyde', 'Harnold', 'Sid', 'Lucy', 'Pippa', 'Sadie', 'Otis', 'None', 'Carper', 'None', 'Bowie', 'None', 'Alexanderson', 'Suki', 'Barclay', 'None', 'Skittle', 'Ebby', 'Flávio', 'Smokey', 'Link', 'Jennifur', 'None', 'Ozzy', 'Bluebert', 'Stephanus', 'None', 'Bubbles', 'Bentley', 'Toby', 'Zeus', 'Bertson', 'Oscar', 'Nico', 'Michelangelope', 'Siba', 'Calbert', 'None', 'Curtis', 'Benedict', 'None', 'Blitz', 'Travis', 'Thumas', 'None', 'None', 'Kanu', 'Doug', 'None', 'Piper', 'None', 'Lance', 'Opie', 'Stubert', 'None', 'Sunny', 'Kane', 'None', 'None', 'Steven', 'Olive', 'Chester', 'Winston', 'Roosevelt', 'None', 'None', 'Gary', 'None', 'None', 'Chuckles', 'Milo', 'Staniel', 'Sora', 'None', 'None', 'Beemo', 'Oshie', 'Gunner', 'None', 'Lacy', 'Tater', 'None', 'Watson', 'None', 'None', 'Olaf', 'Cecil', 'Vince', 'Karma', 'Billy', 'Walker', 'Penny', 'None', 'Sammy', 'Rodney', 'Klevin', 'Lucy', 'None', 'Malikai', 'Mister', 'Coco', 'Smokey', 'Bear', 'Bobble', 'None', 'Oliver', 'River', 'Jebberson', 'None', 'Cooper', 'Remington', 'None', 'Farfle', 'Rufus', 'Sadie', 'None', 'None', 'Jiminus', 'None', 'Harper', 'Keurig', 'None', 'Clarkus', 'None', 'Finnegus', 'Cassie', 'Cupcake', 'Kathmandu', 'Tucker', 'Ellie', 'None', 'Elliot', 'Katie', 'Shadow', 'None', 'Oliver', 'None', 'Koda', 'None', 'None', 'Kara', 'None', 'Dexter', 'Layla', 'Adele', 'Lucy', 'Max', 'None', 'Zara', 'Cooper', 'Ambrose', 'Jimothy', 'Bode', 'Terrenth', 'Reese', 'None', 'Chesterson', 'None', 'None', 'Lucia', 'Bisquick', 'Ralphson', 'None', 'Stanley', 'None', 'None', 'Bella', 'Scooter', 'None', 'Charlie', 'Socks', 'None', 'Chip', 'Luna', 'Lucy', 'Rambo', 'Sansa', 'Rudy', 'None', 'None', 'None', 'Fiji', 'Rilo', 'Bilbo', 'None', 'Coopson', 'Yoda', 'Millie', 'None', 'Chet', 'Crouton', 'Daniel', 'Vincent', 'Kaia', 'Murphy', 'Dotsy', 'None', 'None', 'Eazy', 'Coops', 'Thumas', 'Cooper', 'Nala', 'None', 'Fillup', 'Dave', 'Archie', 'None', 'None', 'Miley', 'Calbert', 'None', 'Charl', 'Reagan', 'None', 'Yukon', 'None', 'Oliver', 'None', 'Cuddles', 'Rusty', 'None', 'Claude', 'Jessiga', 'Maximus', 'Franklin', 'Beau', 'Lily', 'None', 'Doug', 'Cassie', 'Carter', 'None', 'None', 'None', 'Ole', 'Pherb', 'Blipson', 'None', 'Bentley', 'Charlie', 'Oakley', 'Rosie', 'None', 'None', 'Misty', 'Reptar', 'Klevin', 'Trevith', 'None', 'None', 'Berb', 'None', 'None', 'Wyatt', 'Calvin', 'None', 'Bob', 'Colin', 'Lorenzo', 'None', 'Brian', 'None', 'Archie', 'Phil', 'Oliviér', 'None', 'Grady', 'None', 'Lola', 'Chester', 'None', 'Kobe', 'None', 'Freddery', 'None', 'None', 'Phil', 'Lincoln', 'Sadie', 'Oscar', 'None', 'Bodie', 'Dunkin', 'None', 'Milo', 'None', 'Wally', 'None', 'Tupawc', 'None', 'None', 'Chester', 'Amber', 'Cody', 'Herschel', 'Edgar', 'Teddy', 'Kingsley', 'Brockly', 'None', 'None', 'Richie', 'None', 'Leo', 'Bailey', 'None', 'Molly', 'None', 'None', 'None', 'None', 'None', 'Buddy', 'Peaches', 'Vinscent', 'Cedrick', 'Hazel', 'Lolo', 'Eriq', 'Phred', 'Oddie', 'Maxwell', 'Geoff', 'None', 'None', 'Covach', 'None', 'None', 'Gizmo', 'Durg', 'Fynn', 'Luca', 'Ricky', 'Lucy', 'None', 'None', 'Carl', 'None', 'Chipson', 'Herald', 'Lucky', 'Ferg', 'None', 'Trip', 'None', 'Clarence', 'None', 'Hamrick', 'Brad', 'None', 'Pubert', 'Frönq', 'None', 'Louis', 'Derby', 'Lizzie', 'None', 'Kilo', 'None', 'Louis', 'None', 'Trooper', 'Ember', 'Blakely', 'Opal', 'Marq', 'None', 'Curtis', 'Kramer', 'Barry', 'Tyrone', 'None', 'Gordon', 'Samson', 'Baxter', 'None', 'None', 'Jackson', 'None', 'None', 'None', 'Mona', 'Olivia', 'Horace', 'None', 'Crimson', 'Birf', 'None', 'None', 'Flávio', 'None', 'None', 'Hammond', 'Lorelei', 'Olive', 'Marty', 'Brooks', 'Otis', 'None', 'None', 'None', 'Rocky', 'None', 'Petrick', 'Hubertson', 'Alfie', 'Gerbald', 'Jerry', 'Oreo', 'Bruiser', 'None', 'Perry', 'None', 'None', 'Theodore', 'None', 'None', 'Bobby', 'Pippa', 'Jeph', 'Obi', 'None', 'None', 'Tino', 'None', 'Kulet', 'Sweets', 'None', 'Lupe', 'Sadie', 'Tiger', 'Jiminy', 'None', 'None', 'Buddy', 'Sebastian', 'None', 'Griffin', 'Banjo', 'None', 'None', 'Jack', 'None', 'Brandy', 'Larry', 'None', 'None', 'Lulu', 'Darrel', 'None', 'Taco', 'None', 'Joey', 'None', 'None', 'Patrick', 'Kreg', 'Brody', 'Todo', 'Jax', 'Samson', 'None', 'Tess', 'None', 'Ulysses', 'None', 'Jimothy', 'Charlie', 'Bo', 'None', 'Toffee', 'None', 'Apollo', 'Carly', 'Asher', 'Glacier', 'Chuck', 'Sarge', 'Panda', 'Champ', 'None', 'Aspen', 'None', 'Ozzie', 'Alice', 'Sadie', 'Griswold', 'Cheesy', 'Ellie', 'None', 'None', 'Moofasa', 'Brody', 'Penny', 'Percy', 'None', 'Hector', 'None', 'Toby', 'None', 'None', 'Goliath', 'Kawhi', 'Reggie', 'Ozzy', 'None', 'Emmie', 'Sammy', 'Penelope', 'Rocco', 'None', 'Bruce', 'Willie', 'None', 'Rinna', 'None', 'Hunter', 'Mike', 'None', 'William', 'Dwight', 'Evy', 'Hurley', 'None', 'Rubio', 'None', 'Louis', 'Chompsky', 'None', 'Rascal', 'None', 'Lola', 'None', 'Linda', 'Tug', 'Mia', 'Wilson', 'Dash', 'Tango', 'None', 'None', 'Grizz', 'None', 'Crystal', 'Jerome', 'None', 'None', 'Bella', 'Crumpet', 'None', 'Rosie', 'None', 'Jessifer', 'Reese', 'Izzy', 'None', 'None', 'None', 'Ralph', 'Sadie', 'None', 'None', 'None', 'Sandy', 'None', 'None', 'None', 'Axel', 'None', 'None', 'Humphrey', 'Derek', 'Tassy', 'Juckson', 'Chuq', 'None', 'Cooper', 'None', 'Tyrus', 'Karl', 'None', 'None', 'None', 'None', 'None', 'Ash', 'None', 'None', 'Penny', 'None', 'None', 'None', 'Godzilla', 'None', 'Bubbles', 'Vinnie', 'None', 'None', 'Griffin', 'None', 'None', 'Duke', 'None', 'Winston', 'Kenneth', 'Herm', 'None', 'Bert', 'None', 'Striker', 'None', 'None', 'None', 'Donny', 'None', 'None', 'None', 'Pepper', 'None', 'None', 'Bernie', 'Buddah', 'None', 'Lenny', 'Ellie', 'Sammy', 'None', 'None', 'Reggie', 'None', 'None', 'None', 'None', 'Daisy', 'None', 'None', 'Arnold', 'None', 'None', 'None', 'Coops', 'None', 'Steven', 'Zuzu', 'Oliver', 'Moe', 'Mollie', 'Laela', 'None', 'Tedders', 'None', 'Maggie', 'None', 'Superpup', 'None', 'None', 'None', 'Sophie', 'None', 'Rufio', 'Patrick', 'Jeb', 'Rodman', 'None', 'None', 'None', 'None', 'Louis', 'None', 'Bailey', 'Ava', 'Jonah', 'Lenny', 'Gary', 'Chesney', 'Lennon', 'Kenny', 'None', 'Bob', 'Henry', 'Gus', 'Bobbay', 'Mitch', 'Earl', 'Stanley', 'Lucy', 'None', 'None', 'Kaiya', 'Daisy', 'None', 'Acro', 'Aiden', 'None', 'Obie', 'None', 'None', 'None', 'None', 'Riley', 'Raymond', 'Dot', 'None', 'Pickles', 'None', 'Larry', 'George', 'Shnuggles', 'Kendall', 'Albert', 'Jeffri', 'Sandy', 'None', 'None', 'None', 'Steve', 'Koda', 'None', 'Bella', 'Gerald', 'None', 'Django', 'Frankie', 'None', 'Eve', 'Mac', 'None', 'Dexter', 'Fletcher', 'Kenzie', 'Pumpkin', 'Schnozz', 'None', 'None', 'Chuckles', 'Chet', 'Gustaf', 'Terry', 'Jimison', 'Cheryl', 'None', 'Oscar', 'Ed', 'Jerry', 'Leonidas', 'None', 'Norman', 'Caryl', 'Scott', 'Taz', 'None', 'Darby', 'None', 'Jackie', 'Jazz', 'Buddy', 'Franq', 'Pippin', 'None', 'Kreg', 'None', 'Rolf', 'None', 'Snickers', 'Ridley', 'None', 'Cal', 'Opal', 'Bradley', 'Bubba', 'None', 'Tuco', 'Patch', 'Gizmo', 'Lola', 'Mojo', 'Batdog', 'Brad', 'Mia', 'Dylan', 'None', 'None', 'Mark', 'None', 'Oscar', 'Marley', 'None', 'Baxter', 'Reginald', 'None', 'Jax', 'Alejandro', 'Scruffers', 'Hammond', 'Charlie', 'Pip', 'Julius', 'Malcolm', 'Penelope', 'None', 'Tanner', 'None', 'Lou', 'Lola', 'Sparky', 'None', 'Herm', 'None', 'Anthony', 'Holly', 'None', 'None', 'None', 'Clarence', 'None', 'Phred', 'Toby', 'None', 'None', 'Colby', 'None', 'Jett', 'Amy', 'None', 'Remington', 'None', 'Sage', 'Maggie', 'Andy', 'Mason', 'None', 'Trigger', 'Antony', 'None', 'Creg', 'None', 'None', 'Traviss', 'None', 'Vincent', 'Gin', 'Jerry', 'Jeffrie', 'None', 'Danny', 'Ester', 'Pluto', 'Bloo', 'Phineas', 'None', 'Edd', 'None', 'None', 'None', 'Paull', 'Koda', 'None', 'Hank', 'Sam', 'Willy', 'Herb', 'Damon', 'None', 'Scooter', 'Peanut', 'Nigel', 'Larry', 'Daisy', 'Butters', 'None', 'Sandra', 'Wally', 'None', 'Fabio', 'Winston', 'Randall', 'Liam', 'Tommy', 'Ben', 'None', 'None', 'Raphael', 'Zoey', 'None', 'Julio', 'Andru', 'None', 'Chester', 'Clarence', 'Kloey', 'Louie', 'Shawwn', 'Penny', 'None', 'Skye', 'None', 'Linda', 'Keith', 'Kollin', 'Ronduh', 'Billl', 'Oliviér', 'Chip', 'None', 'Saydee', 'Dug', 'Sully', 'Kirk', 'None', 'Ralf', 'Clarq', 'Jaspers', 'Samsom', 'None', 'None', 'Tucker', 'Terrance', 'None', 'Harrison', 'Bernie', 'None', 'Ruby', 'None', 'Chaz', 'Jeremy', 'Jaycob', 'Herald', 'Lambeau', 'Ruffles', 'Amélie', 'Bobb', 'Banditt', 'Kevon', 'Winifred', 'None', 'None', 'Hanz', 'Churlie', 'Zeek', 'Timofy', 'Maks', 'Jomathan', 'Kallie', 'Marvin', 'None', 'None', 'Spark', 'Gòrdón', 'Jo', 'None', 'None', 'None', 'Rusty', 'Sophie', 'None', 'Jareld', 'Bisquick', 'Torque', 'None', 'None', 'Ron', 'Skittles', 'None', 'None', 'Alfie', 'None', 'Jiminy', 'Otis', 'None', 'Cleopatricia', 'Erik', 'Stu', 'Tedrick', 'None', 'Shaggy', 'None', 'Filup', 'None', 'None', 'None', 'Calvin', 'Olive', 'None', 'None', 'George', 'Kial', 'Frank', 'Naphaniel', 'None', 'Dook', 'None', 'Hall', 'Philippe', 'None', 'Reese', 'Cupcake', 'None', 'None', 'None', 'Biden', 'Fwed', 'None', 'Genevieve', 'Joshwa', 'None', 'None', 'Timison', 'None', 'Clarence', 'Kenneth', 'Churlie', 'Bradlay', 'Pipsy', 'None', 'Gabe', 'Clybe', 'Dave', 'None', 'Keet', 'None', 'Klevin', 'Carll', 'None', 'None', 'None', 'Jeph', 'Jockson', 'None', 'Josep', 'Lugan', 'Christoper', 'None', 'Jimothy', 'Kreggory', 'Scout', 'None', 'None', 'None', 'None', 'None', 'Walter', 'None', 'None', 'None', 'None', 'None', 'None', 'None', 'None', 'None', 'None', 'None', 'None', 'None', 'None', 'None', 'None']\n"
     ]
    }
   ],
   "source": [
    "lower_names = archive[archive['name'].str.islower()]['name'].values\n",
    "upper_names =archive[archive['name'].str.isupper()]['name'].values\n",
    "okay_names = archive[archive['name'].str.istitle()]['name'].values\n",
    "\n",
    "print(\"lower names = \", list(lower_names))\n",
    "\n",
    "print(\"upper names = \", upper_names)\n",
    "\n",
    "print(\"actual names = \", list(okay_names))"
   ]
  },
  {
   "cell_type": "markdown",
   "metadata": {},
   "source": [
    "From the observation above, all the lower_case names are just words. But also, on the actual name, we see that 603 dogs have the value \"None\" as the dog name.\n",
    "So we eliminate all these wrong names"
   ]
  },
  {
   "cell_type": "code",
   "execution_count": 55,
   "metadata": {},
   "outputs": [],
   "source": [
    "archive.name.replace(lower_names, 'None', inplace=True)"
   ]
  },
  {
   "cell_type": "markdown",
   "metadata": {},
   "source": [
    "### TEST"
   ]
  },
  {
   "cell_type": "code",
   "execution_count": 56,
   "metadata": {},
   "outputs": [
    {
     "data": {
      "text/plain": [
       "array([], dtype=object)"
      ]
     },
     "execution_count": 56,
     "metadata": {},
     "output_type": "execute_result"
    }
   ],
   "source": [
    "#check to see that all the identified wrong names have been replace with None\n",
    "\n",
    "archive[archive['name'].str.islower()]['name'].values"
   ]
  },
  {
   "cell_type": "markdown",
   "metadata": {},
   "source": [
    "df_combined = d8.merge(d18, left_on= \"model_2008\", right_on=\"model\", how= \"inner\")\n",
    "\n",
    "model_mpg[model_mpg['mpg_change'] == max_change]"
   ]
  }
 ],
 "metadata": {
  "kernelspec": {
   "display_name": "Python 3.9.7 ('base')",
   "language": "python",
   "name": "python3"
  },
  "language_info": {
   "codemirror_mode": {
    "name": "ipython",
    "version": 3
   },
   "file_extension": ".py",
   "mimetype": "text/x-python",
   "name": "python",
   "nbconvert_exporter": "python",
   "pygments_lexer": "ipython3",
   "version": "3.9.7"
  },
  "orig_nbformat": 4,
  "vscode": {
   "interpreter": {
    "hash": "d226a5ef7275d12047cbea283c36e195f922df6015b0f301efd0adffa73e9edc"
   }
  }
 },
 "nbformat": 4,
 "nbformat_minor": 2
}
